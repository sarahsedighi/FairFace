{
 "cells": [
  {
   "cell_type": "markdown",
   "metadata": {
    "id": "oVrIYVVF0fzw"
   },
   "source": [
    "# Imports"
   ]
  },
  {
   "cell_type": "code",
   "execution_count": 1,
   "metadata": {
    "id": "pxpUBtvTySEq"
   },
   "outputs": [],
   "source": [
    "# Global imports\n",
    "import os \n",
    "import cv2\n",
    "import time\n",
    "import copy\n",
    "import random\n",
    "import pandas as pd\n",
    "import numpy as np\n",
    "\n",
    "# Torch imports\n",
    "import torch\n",
    "import torchvision\n",
    "import torch.nn as nn\n",
    "import torch.optim as optim\n",
    "from torchvision import transforms\n",
    "from tqdm.auto import tqdm, trange\n",
    "import torchvision.models as models\n",
    "from torch.utils.data import Dataset, DataLoader\n",
    "from torchvision import datasets\n",
    "\n",
    "torch.cuda.empty_cache()\n",
    "random.seed(42)\n",
    "torch.manual_seed(42)\n",
    "torch.cuda.manual_seed(42)\n",
    "\n",
    "# Sklearn\n",
    "import matplotlib.pyplot as plt\n",
    "from sklearn.metrics import confusion_matrix\n",
    "from sklearn.metrics import classification_report"
   ]
  },
  {
   "cell_type": "code",
   "execution_count": 2,
   "metadata": {
    "colab": {
     "base_uri": "https://localhost:8080/"
    },
    "id": "chx4YlRf5NCQ",
    "outputId": "7858a7e8-2c07-446b-a0f6-4933a144fac6"
   },
   "outputs": [
    {
     "data": {
      "text/plain": [
       "device(type='cuda')"
      ]
     },
     "execution_count": 2,
     "metadata": {},
     "output_type": "execute_result"
    }
   ],
   "source": [
    "device = torch.device('cuda' if torch.cuda.is_available() else 'cpu')\n",
    "device"
   ]
  },
  {
   "cell_type": "markdown",
   "metadata": {
    "id": "GpJZYRza0lWR"
   },
   "source": [
    "# Dataset prepration\n"
   ]
  },
  {
   "cell_type": "code",
   "execution_count": 3,
   "metadata": {},
   "outputs": [],
   "source": [
    "train_transforms = transforms.Compose([\n",
    "    transforms.ToTensor(),\n",
    "    transforms.Normalize(mean = [0.3045, 0.3578, 0.4824] , std= [0.2182, 0.2242, 0.2571])\n",
    "])\n",
    "\n",
    "val_transforms = transforms.Compose([\n",
    "    transforms.ToTensor(),\n",
    "    transforms.Normalize(mean = [0.3049, 0.3587, 0.4833] , std = [0.2188, 0.2247, 0.2572])\n",
    "\n",
    "])"
   ]
  },
  {
   "cell_type": "code",
   "execution_count": 4,
   "metadata": {
    "colab": {
     "base_uri": "https://localhost:8080/",
     "height": 364
    },
    "id": "AeBpRwIYzN5k",
    "outputId": "6b870380-a962-4505-ef64-aad1935b7e6e"
   },
   "outputs": [],
   "source": [
    "class MyDataset(Dataset):\n",
    "    def __init__(self , dataset_path , annotation_path , transform = None):\n",
    "        self.dataset_path = dataset_path\n",
    "        self.data_files = os.listdir(dataset_path)\n",
    "        self.transform = transform\n",
    "        self.race_to_int = {'White': 0 , 'Black': 1, 'East Asian':2, 'Indian':3 , 'Middle Eastern':4,'Latino_Hispanic':5, 'Southeast Asian':6}\n",
    "        sorted(self.data_files)\n",
    "        self.annotations = pd.read_csv(annotation_path)\n",
    "\n",
    "    def __getitem__(self, idx):\n",
    "        image_path = self.dataset_path + self.data_files[idx]\n",
    "        # Read images:\n",
    "        image = cv2.imread(image_path)\n",
    "        image = (image/255).astype(\"float32\") # Network needs inputs in range 0-1\n",
    "        \n",
    "        # Read label:\n",
    "        race = self.annotations.loc[self.annotations[\"file\"] == image_path]['race'].values[0]\n",
    "        int_label = self.race_to_int[race]\n",
    "        \n",
    "        # Perform transformation:\n",
    "        if self.transform == None:\n",
    "            image = transforms.ToTensor()(image)\n",
    "        if self.transform:\n",
    "            image = self.transform(image)\n",
    "        return image , int_label\n",
    "\n",
    "    def __len__(self):\n",
    "        return len(self.data_files)\n",
    "    \n",
    "    def show_image(self , race , index):\n",
    "        self.annotations = self.annotations.sort_values(by=['race' , 'file'])\n",
    "        race_df = self.annotations[self.annotations['race'] == race]\n",
    "        annotation = race_df.iloc[index]\n",
    "        image_path = annotation['file']\n",
    "        image = cv2.imread(image_path)\n",
    "        plt.imshow(cv2.cvtColor(image, cv2.COLOR_BGR2RGB))\n",
    "        print(annotation)\n",
    "        \n",
    "    def show_info(self):\n",
    "        print(\"annotations info\")\n",
    "        print(self.annotations.value_counts(\"race\"))"
   ]
  },
  {
   "cell_type": "code",
   "execution_count": 5,
   "metadata": {},
   "outputs": [],
   "source": [
    "train_dataset_path = \"train/\"\n",
    "val_dataset_path = \"val/\"\n",
    "\n",
    "image_annotation = {\"train/\": \"fairface_label_train.csv\" , \n",
    "                    \"val/\" : \"fairface_label_val.csv\" , \n",
    "                   }"
   ]
  },
  {
   "cell_type": "code",
   "execution_count": 6,
   "metadata": {},
   "outputs": [],
   "source": [
    "# Just for test\n",
    "train_dataset = MyDataset(dataset_path = train_dataset_path , annotation_path = image_annotation[train_dataset_path] , transform = train_transforms)\n",
    "val_dataset = MyDataset(dataset_path = val_dataset_path , annotation_path = image_annotation[val_dataset_path] , transform = val_transforms)\n"
   ]
  },
  {
   "cell_type": "code",
   "execution_count": 7,
   "metadata": {},
   "outputs": [
    {
     "name": "stdout",
     "output_type": "stream",
     "text": [
      "file            train/10010.jpg\n",
      "age                       20-29\n",
      "gender                     Male\n",
      "race                      Black\n",
      "service_test               True\n",
      "Name: 10009, dtype: object\n"
     ]
    },
    {
     "data": {
      "image/png": "[encoded data removed]",
      "text/plain": [
       "<Figure size 432x288 with 1 Axes>"
      ]
     },
     "metadata": {
      "needs_background": "light"
     },
     "output_type": "display_data"
    }
   ],
   "source": [
    "train_dataset.show_image(race = \"Black\" , index = 1)"
   ]
  },
  {
   "cell_type": "code",
   "execution_count": 8,
   "metadata": {},
   "outputs": [
    {
     "name": "stdout",
     "output_type": "stream",
     "text": [
      "annotations info\n",
      "race\n",
      "White              16527\n",
      "Latino_Hispanic    13367\n",
      "Indian             12319\n",
      "East Asian         12287\n",
      "Black              12233\n",
      "Southeast Asian    10795\n",
      "Middle Eastern      9216\n",
      "dtype: int64\n"
     ]
    }
   ],
   "source": [
    "train_dataset.show_info()"
   ]
  },
  {
   "cell_type": "code",
   "execution_count": 9,
   "metadata": {},
   "outputs": [
    {
     "data": {
      "text/plain": [
       "'\\ndef get_mean_std(loader):\\n    # var[X] = E[X**2] - E[X]**2\\n    channels_sum, channels_sqrd_sum, num_batches = 0, 0, 0\\n\\n    for data, _ in tqdm(loader):\\n        channels_sum += torch.mean(data, dim=[0, 2, 3])\\n        channels_sqrd_sum += torch.mean(data ** 2, dim=[0, 2, 3])\\n        num_batches += 1\\n\\n    mean = channels_sum / num_batches\\n    std = (channels_sqrd_sum / num_batches - mean ** 2) ** 0.5\\n\\n    return mean, std   \\n    \\nmean , std = get_mean_std(train_loader)\\n\\nprint(mean , std)\\n'"
      ]
     },
     "execution_count": 9,
     "metadata": {},
     "output_type": "execute_result"
    }
   ],
   "source": [
    "'''\n",
    "def get_mean_std(loader):\n",
    "    # var[X] = E[X**2] - E[X]**2\n",
    "    channels_sum, channels_sqrd_sum, num_batches = 0, 0, 0\n",
    "\n",
    "    for data, _ in tqdm(loader):\n",
    "        channels_sum += torch.mean(data, dim=[0, 2, 3])\n",
    "        channels_sqrd_sum += torch.mean(data ** 2, dim=[0, 2, 3])\n",
    "        num_batches += 1\n",
    "\n",
    "    mean = channels_sum / num_batches\n",
    "    std = (channels_sqrd_sum / num_batches - mean ** 2) ** 0.5\n",
    "\n",
    "    return mean, std   \n",
    "    \n",
    "mean , std = get_mean_std(train_loader)\n",
    "\n",
    "print(mean , std)\n",
    "'''\n",
    "\n",
    "# Main train_loader: mean:   mean = [0.3045, 0.3578, 0.4824] , std= [0.2182, 0.2242, 0.2571]\n",
    "# Main val_loader: mean:     mean = [0.3049, 0.3587, 0.4833] , std = [0.2188, 0.2247, 0.2572]"
   ]
  },
  {
   "cell_type": "code",
   "execution_count": 10,
   "metadata": {},
   "outputs": [
    {
     "data": {
      "text/plain": [
       "\"\\n##########################\\n### MNIST DATASET\\n##########################\\n\\n# Note transforms.ToTensor() scales input images\\n# to 0-1 range\\n\\nBATCH_SIZE = 32 \\n\\ntrain_dataset = datasets.MNIST(root='data', \\n                               train=True, \\n                               transform=transforms.ToTensor(),\\n                               download=True)\\n\\ntest_dataset = datasets.MNIST(root='data', \\n                              train=False, \\n                              transform=transforms.ToTensor())\\n\\n\\ntrain_loader = DataLoader(dataset=train_dataset, \\n                          batch_size=BATCH_SIZE, \\n                          shuffle=True)\\n\\nval_loader = DataLoader(dataset=test_dataset, \\n                         batch_size=BATCH_SIZE, \\n                         shuffle=False)\\n\\n# Checking the dataset\\nfor images, labels in train_loader:  \\n    print('Image batch dimensions:', images.shape)\\n    print('Image label dimensions:', labels.shape)\\n    break\\ndataloaders_dict = {'train' : train_loader , 'val' : val_loader  }\\n\\n\""
      ]
     },
     "execution_count": 10,
     "metadata": {},
     "output_type": "execute_result"
    }
   ],
   "source": [
    "'''\n",
    "##########################\n",
    "### MNIST DATASET\n",
    "##########################\n",
    "\n",
    "# Note transforms.ToTensor() scales input images\n",
    "# to 0-1 range\n",
    "\n",
    "BATCH_SIZE = 32 \n",
    "\n",
    "train_dataset = datasets.MNIST(root='data', \n",
    "                               train=True, \n",
    "                               transform=transforms.ToTensor(),\n",
    "                               download=True)\n",
    "\n",
    "test_dataset = datasets.MNIST(root='data', \n",
    "                              train=False, \n",
    "                              transform=transforms.ToTensor())\n",
    "\n",
    "\n",
    "train_loader = DataLoader(dataset=train_dataset, \n",
    "                          batch_size=BATCH_SIZE, \n",
    "                          shuffle=True)\n",
    "\n",
    "val_loader = DataLoader(dataset=test_dataset, \n",
    "                         batch_size=BATCH_SIZE, \n",
    "                         shuffle=False)\n",
    "\n",
    "# Checking the dataset\n",
    "for images, labels in train_loader:  \n",
    "    print('Image batch dimensions:', images.shape)\n",
    "    print('Image label dimensions:', labels.shape)\n",
    "    break\n",
    "dataloaders_dict = {'train' : train_loader , 'val' : val_loader  }\n",
    "\n",
    "'''"
   ]
  },
  {
   "cell_type": "markdown",
   "metadata": {},
   "source": [
    "# Model"
   ]
  },
  {
   "cell_type": "code",
   "execution_count": 11,
   "metadata": {
    "id": "3fDDpnLzs9Px"
   },
   "outputs": [],
   "source": [
    "def set_parameter_requires_grad(model, feature_extracting):\n",
    "    if feature_extracting:\n",
    "        for param in model.parameters():\n",
    "            param.requires_grad = False\n",
    "    if feature_extracting == False:\n",
    "        for param in model.parameters():\n",
    "            param.requires_grad = True"
   ]
  },
  {
   "cell_type": "code",
   "execution_count": 12,
   "metadata": {
    "id": "LdvvFxLE1vq-"
   },
   "outputs": [],
   "source": [
    "def initialize_model(model_name, num_classes, feature_extract, use_pretrained=True):\n",
    "    # Initialize these variables which will be set in this if statement. Each of these\n",
    "    #   variables is model specific.\n",
    "    model_ft = None\n",
    "    input_size = 0\n",
    "\n",
    "    if model_name == \"resnet18\":\n",
    "        \"\"\" Resnet18\n",
    "        \"\"\"\n",
    "        print(model_name)\n",
    "        model_ft = models.resnet18(pretrained=use_pretrained)\n",
    "        set_parameter_requires_grad(model_ft, feature_extract)\n",
    "        num_ftrs = model_ft.fc.in_features\n",
    "        model_ft.fc = nn.Linear(num_ftrs, num_classes)\n",
    "        input_size = 224\n",
    "        \n",
    "    elif model_name == \"resnet34\":\n",
    "        \"\"\" Resnet34\n",
    "        \"\"\"\n",
    "        model_ft = models.resnet34(pretrained=use_pretrained)\n",
    "        set_parameter_requires_grad(model_ft, feature_extract)\n",
    "        num_ftrs = model_ft.fc.in_features\n",
    "        model_ft.fc = nn.Linear(num_ftrs, num_classes)\n",
    "        input_size = 224\n",
    "\n",
    "    elif model_name == \"alexnet\":\n",
    "        \"\"\" Alexnet\n",
    "        \"\"\"\n",
    "        model_ft = models.alexnet(pretrained=use_pretrained)\n",
    "        set_parameter_requires_grad(model_ft, feature_extract)\n",
    "        num_ftrs = model_ft.classifier[6].in_features\n",
    "        model_ft.classifier[6] = nn.Linear(num_ftrs,num_classes)\n",
    "        input_size = 224\n",
    "\n",
    "    elif model_name == \"vgg11\":\n",
    "        \"\"\" VGG11_bn\n",
    "        \"\"\"\n",
    "        model_ft = models.vgg11_bn(pretrained=use_pretrained)\n",
    "        set_parameter_requires_grad(model_ft, feature_extract)\n",
    "        num_ftrs = model_ft.classifier[6].in_features\n",
    "        model_ft.classifier[6] = nn.Linear(num_ftrs,num_classes)\n",
    "        input_size = 224\n",
    "    \n",
    "    elif model_name == \"vgg19\":\n",
    "        \"\"\" VGG11_bn\n",
    "        \"\"\"\n",
    "        model_ft = models.vgg19(pretrained=use_pretrained)\n",
    "        set_parameter_requires_grad(model_ft, feature_extract)\n",
    "        num_ftrs = model_ft.classifier[6].in_features\n",
    "        model_ft.classifier[6] = nn.Linear(num_ftrs,num_classes)\n",
    "        input_size = 224\n",
    "        \n",
    "        \n",
    "    elif model_name == \"squeezenet\":\n",
    "        \"\"\" Squeezenet\n",
    "        \"\"\"\n",
    "        model_ft = models.squeezenet1_0(pretrained=use_pretrained)\n",
    "        set_parameter_requires_grad(model_ft, feature_extract)\n",
    "        model_ft.classifier[1] = nn.Conv2d(512, num_classes, kernel_size=(1,1), stride=(1,1))\n",
    "        model_ft.num_classes = num_classes\n",
    "        input_size = 224\n",
    "\n",
    "    elif model_name == \"densenet\":\n",
    "        \"\"\" Densenet\n",
    "        \"\"\"\n",
    "        model_ft = models.densenet121(pretrained=use_pretrained)\n",
    "        set_parameter_requires_grad(model_ft, feature_extract)\n",
    "        num_ftrs = model_ft.classifier.in_features\n",
    "        model_ft.classifier = nn.Linear(num_ftrs, num_classes)\n",
    "        input_size = 224\n",
    "\n",
    "    elif model_name == \"inception\":\n",
    "        \"\"\" Inception v3\n",
    "        Be careful, expects (299,299) sized images and has auxiliary output\n",
    "        \"\"\"\n",
    "        model_ft = models.inception_v3(pretrained=use_pretrained)\n",
    "        set_parameter_requires_grad(model_ft, feature_extract)\n",
    "        # Handle the auxilary net\n",
    "        num_ftrs = model_ft.AuxLogits.fc.in_features\n",
    "        model_ft.AuxLogits.fc = nn.Linear(num_ftrs, num_classes)\n",
    "        # Handle the primary net\n",
    "        num_ftrs = model_ft.fc.in_features\n",
    "        model_ft.fc = nn.Linear(num_ftrs,num_classes)\n",
    "    else:\n",
    "        print(\"Invalid model name, exiting...\")\n",
    "        exit()\n",
    "\n",
    "    return model_ft"
   ]
  },
  {
   "cell_type": "code",
   "execution_count": 33,
   "metadata": {
    "id": "ggvlNEmf1397"
   },
   "outputs": [],
   "source": [
    "def train_model(model, dataloaders, criterion, optimizer, num_epochs=25, is_inception=False):\n",
    "    since = time.time()\n",
    "\n",
    "    val_acc_history = []\n",
    "\n",
    "    best_model_wts = copy.deepcopy(model.state_dict())\n",
    "    best_acc = 0.0\n",
    "    \n",
    "    for epoch in range(num_epochs):\n",
    "        print('Epoch {}/{}'.format(epoch, num_epochs - 1))\n",
    "        print('-' * 10)\n",
    "        # Each epoch has a training and validation phase\n",
    "        for phase in ['train' , 'val']:\n",
    "            if phase == 'train':\n",
    "                model.train()  # Set model to training mode\n",
    "            else:\n",
    "                model.eval()   # Set model to evaluate mode\n",
    "\n",
    "            running_loss = 0.0\n",
    "            running_corrects = 0\n",
    "            i = 0\n",
    "            # Iterate over data.\n",
    "            for inputs, labels in tqdm(dataloaders[phase]):\n",
    "                inputs = inputs.to(device)\n",
    "                labels = labels.to(device)\n",
    "\n",
    "                i += 1\n",
    "                # forward\n",
    "                with torch.set_grad_enabled(phase == 'train'):\n",
    "\n",
    "                    if is_inception and phase == 'train':\n",
    "                        # zero the parameter gradients\n",
    "                        optimizer.zero_grad()\n",
    "                        outputs, aux_outputs = model(inputs)\n",
    "                        loss1 = criterion(outputs, labels)\n",
    "                        loss2 = criterion(aux_outputs, labels)\n",
    "                        loss = loss1 + 0.4 * loss2\n",
    "\n",
    "                    else:                \n",
    "                        # zero the parameter gradients\n",
    "                        optimizer.zero_grad()\n",
    "                        outputs = model(inputs)\n",
    "\n",
    "                        loss = criterion(outputs, labels)\n",
    "                    _, preds = torch.max(outputs, 1)\n",
    "\n",
    "                    # backward + optimize only if in training phase\n",
    "                    if phase == 'train':\n",
    "                        loss.backward()\n",
    "                        optimizer.step()\n",
    "                 \n",
    "                # statistics\n",
    "                running_loss += loss.item() * inputs.size(0)\n",
    "                running_corrects += torch.sum(preds == labels.data)\n",
    "            epoch_loss = running_loss / len(dataloaders[phase].dataset)\n",
    "            epoch_acc = running_corrects.double() / len(dataloaders[phase].dataset)\n",
    "            print('Phase: {}, Loss: {:.4f}, Acc: {:.4f}'.format(phase, epoch_loss, epoch_acc))\n",
    "\n",
    "            # deep copy the model\n",
    "            if phase == 'val' and epoch_acc > best_acc:\n",
    "                best_acc = epoch_acc\n",
    "                best_model_wts = copy.deepcopy(model.state_dict())\n",
    "                PATH = \"best_Model_\"+ str(epoch) + \".pt\"\n",
    "                torch.save(model.state_dict(), PATH)\n",
    "            if phase == 'val':\n",
    "                val_acc_history.append(epoch_acc)\n",
    "        print('-' * 100)\n",
    "        print()\n",
    "\n",
    "    time_elapsed = time.time() - since\n",
    "    print('Training complete in {:.0f}m {:.0f}s'.format(time_elapsed // 60, time_elapsed % 60))\n",
    "    print('Best val Acc: {:4f}'.format(best_acc))\n",
    "\n",
    "    return model, val_acc_history"
   ]
  },
  {
   "cell_type": "code",
   "execution_count": 34,
   "metadata": {},
   "outputs": [],
   "source": [
    "class Add_dropout_To_Resnet(nn.Module):\n",
    "    def __init__(self , model):\n",
    "        super(Add_dropout_To_Resnet, self).__init__()\n",
    "        self.model = model\n",
    "        self.classifier_layer = nn.Sequential(\n",
    "            nn.Linear(512 , 256),\n",
    "            nn.BatchNorm1d(256),\n",
    "            nn.Dropout(0.5),\n",
    "            nn.Linear(256 , num_classes)\n",
    "        )\n",
    "    def forward(self, inputs):\n",
    "        x = self.model.conv1(inputs)\n",
    "        x = self.model.bn1(x)\n",
    "        x = self.model.relu(x)\n",
    "        x = self.model.maxpool(x)\n",
    "        x = self.model.layer1(x)\n",
    "        x = self.model.layer2(x)\n",
    "        x = self.model.layer3(x)\n",
    "        x = self.model.layer4(x)\n",
    "        x = self.model.avgpool(x)\n",
    "        x = x.flatten(start_dim=1)\n",
    "        x = self.classifier_layer(x)\n",
    "        return x\n",
    "    "
   ]
  },
  {
   "cell_type": "markdown",
   "metadata": {},
   "source": [
    "# You need just change this part"
   ]
  },
  {
   "cell_type": "code",
   "execution_count": 35,
   "metadata": {},
   "outputs": [],
   "source": [
    "train_dataset_path = \"train/\"\n",
    "val_dataset_path = \"val/\"\n",
    "\n",
    "image_annotation = {\"train/\": \"fairface_label_train.csv\" , \n",
    "                    \"val/\" : \"fairface_label_val.csv\" , \n",
    "                   }"
   ]
  },
  {
   "cell_type": "code",
   "execution_count": 36,
   "metadata": {
    "id": "m0aDcXpd17pK"
   },
   "outputs": [],
   "source": [
    "# Name of model\n",
    "model_name = \"resnet34\"\n",
    "\n",
    "# Number of classes in the dataset\n",
    "num_classes = 7\n",
    "\n",
    "# Number of epochs to train for\n",
    "num_epochs = 30\n",
    "\n",
    "# Batch size\n",
    "BATCH_SIZE = 32 \n",
    "\n",
    "# Learning rate of model\n",
    "LEARNING_RATE = 0.001\n",
    "\n",
    "# Flag for feature extracting. When False, we finetune the whole model,\n",
    "#   when True we only update the reshaped layer params\n",
    "feature_extract = False\n",
    "\n",
    "# Flag for using pretrain weights\n",
    "use_pretrained=True\n",
    "\n",
    "# This flag append a new classifier on top of resnet models(resnet18 and resnet34) \n",
    "append_classifier = True\n",
    "\n",
    "# Initialize the model for this run\n",
    "init_model = initialize_model(model_name, num_classes, feature_extract, use_pretrained=True)\n",
    "\n",
    "# Send the model to GPU\n",
    "init_model = init_model.to(device)"
   ]
  },
  {
   "cell_type": "code",
   "execution_count": 37,
   "metadata": {},
   "outputs": [],
   "source": [
    "if append_classifier:\n",
    "    model = Add_dropout_To_Resnet(init_model).to(device)\n",
    "else:\n",
    "    model = init_model"
   ]
  },
  {
   "cell_type": "code",
   "execution_count": 28,
   "metadata": {},
   "outputs": [],
   "source": [
    "# Create dataset\n",
    "train_dataset = MyDataset(dataset_path = train_dataset_path , annotation_path = image_annotation[train_dataset_path] , transform = train_transforms)\n",
    "val_dataset = MyDataset(dataset_path = val_dataset_path , annotation_path = image_annotation[val_dataset_path] , transform = val_transforms)\n",
    "\n",
    "train_loader = DataLoader(train_dataset, batch_size = BATCH_SIZE,  shuffle = False, num_workers=0)\n",
    "val_loader = DataLoader(val_dataset, batch_size = BATCH_SIZE,  shuffle = False, num_workers=0)\n",
    "\n",
    "dataloaders_dict = {'train' : train_loader , 'val' : val_loader  }"
   ]
  },
  {
   "cell_type": "code",
   "execution_count": 29,
   "metadata": {},
   "outputs": [
    {
     "name": "stdout",
     "output_type": "stream",
     "text": [
      "21,421,902 total parameters.\n",
      "21,421,902 training parameters.\n"
     ]
    }
   ],
   "source": [
    "# Find total parameters and trainable parameters\n",
    "total_params = sum(p.numel() for p in model.parameters())\n",
    "print(f'{total_params:,} total parameters.')\n",
    "total_trainable_params = sum(p.numel() for p in model.parameters() if p.requires_grad)\n",
    "print(f'{total_trainable_params:,} training parameters.')"
   ]
  },
  {
   "cell_type": "code",
   "execution_count": 30,
   "metadata": {
    "id": "8oRVqP251-Ib"
   },
   "outputs": [],
   "source": [
    "optimizer = optim.Adam(model.parameters(), lr=LEARNING_RATE )\n",
    "criterion = nn.CrossEntropyLoss()"
   ]
  },
  {
   "cell_type": "markdown",
   "metadata": {},
   "source": [
    "# Trainig model"
   ]
  },
  {
   "cell_type": "code",
   "execution_count": null,
   "metadata": {
    "colab": {
     "base_uri": "https://localhost:8080/"
    },
    "id": "mUksvmMq2A8a",
    "outputId": "6fda4f70-69de-4f9e-8c6a-4d40b19df303",
    "scrolled": true
   },
   "outputs": [],
   "source": [
    "model, val_acc_history = train_model(model, dataloaders_dict, criterion, optimizer, num_epochs = num_epochs , is_inception = (model_name==\"inception\"))"
   ]
  },
  {
   "cell_type": "markdown",
   "metadata": {},
   "source": [
    "# Load and Test"
   ]
  },
  {
   "cell_type": "code",
   "execution_count": 38,
   "metadata": {},
   "outputs": [
    {
     "data": {
      "text/plain": [
       "<All keys matched successfully>"
      ]
     },
     "execution_count": 38,
     "metadata": {},
     "output_type": "execute_result"
    }
   ],
   "source": [
    "model.load_state_dict(torch.load(\"./resnet 32 full my classifier/best_Model_0.pt\"))"
   ]
  },
  {
   "cell_type": "code",
   "execution_count": 39,
   "metadata": {},
   "outputs": [],
   "source": [
    "model = model.to(device)"
   ]
  },
  {
   "cell_type": "code",
   "execution_count": 40,
   "metadata": {},
   "outputs": [],
   "source": [
    "def test(model , loader , criterion):\n",
    "    model.eval()\n",
    "    test_loss = 0\n",
    "    correct = 0\n",
    "    All_preds = []\n",
    "    All_labels = []\n",
    "    with torch.no_grad():\n",
    "        for images, labels in tqdm(loader):\n",
    "            images = images.to(device)\n",
    "            labels =  labels.to(device)\n",
    "            preds = model(images)\n",
    "            loss = criterion(preds , labels)\n",
    "            test_loss += loss\n",
    "            preds = torch.argmax(preds , dim = 1)\n",
    "            All_preds.append(preds.cpu().numpy())\n",
    "            All_labels.append(labels.cpu().numpy())\n",
    "\n",
    "            correct += (preds == labels).float().sum()\n",
    "        print(labels)\n",
    "        print(preds)\n",
    "        accuracy = correct / len(loader.dataset)    \n",
    "        epoch_loss = test_loss / len(loader.dataset)\n",
    "        print(\"   loss:%.2f\" %epoch_loss.item())\n",
    "        All_labels = np.concatenate( All_labels, axis=0 )\n",
    "        All_preds = np.concatenate( All_preds, axis=0 )\n",
    "    return All_labels ,All_preds"
   ]
  },
  {
   "cell_type": "code",
   "execution_count": 41,
   "metadata": {},
   "outputs": [
    {
     "data": {
      "application/vnd.jupyter.widget-view+json": {
       "model_id": "2f9c700c76f1404491ffc48616268795",
       "version_major": 2,
       "version_minor": 0
      },
      "text/plain": [
       "  0%|          | 0/343 [00:00<?, ?it/s]"
      ]
     },
     "metadata": {},
     "output_type": "display_data"
    },
    {
     "name": "stderr",
     "output_type": "stream",
     "text": [
      "C:\\Users\\Windows\\anaconda3\\lib\\site-packages\\torch\\nn\\functional.py:718: UserWarning: Named tensors and all their associated APIs are an experimental feature and subject to change. Please do not use them for anything important until they are released as stable. (Triggered internally at  ..\\c10/core/TensorImpl.h:1156.)\n",
      "  return torch.max_pool2d(input, kernel_size, stride, padding, dilation, ceil_mode)\n"
     ]
    },
    {
     "name": "stdout",
     "output_type": "stream",
     "text": [
      "tensor([3, 0, 3, 3, 0, 1, 4, 1, 5, 5], device='cuda:0')\n",
      "tensor([0, 0, 3, 3, 0, 1, 0, 1, 4, 5], device='cuda:0')\n",
      "   loss:0.03\n"
     ]
    }
   ],
   "source": [
    "All_labels ,All_preds = test(model , val_loader , criterion)"
   ]
  },
  {
   "cell_type": "code",
   "execution_count": 42,
   "metadata": {
    "scrolled": true
   },
   "outputs": [
    {
     "name": "stdout",
     "output_type": "stream",
     "text": [
      "[[1499   24   74   50  190  217   31]\n",
      " [  17 1304    6  100   12   53   64]\n",
      " [  49   15 1061    9    9   47  360]\n",
      " [  56  124   10 1034   80  143   69]\n",
      " [ 281   20   12   73  665  144   14]\n",
      " [ 249   94   65  196  174  686  159]\n",
      " [  27   48  305   56   16   83  880]]\n",
      "\n",
      "              precision    recall  f1-score   support\n",
      "\n",
      "           0       0.69      0.72      0.70      2085\n",
      "           1       0.80      0.84      0.82      1556\n",
      "           2       0.69      0.68      0.69      1550\n",
      "           3       0.68      0.68      0.68      1516\n",
      "           4       0.58      0.55      0.56      1209\n",
      "           5       0.50      0.42      0.46      1623\n",
      "           6       0.56      0.62      0.59      1415\n",
      "\n",
      "    accuracy                           0.65     10954\n",
      "   macro avg       0.64      0.65      0.64     10954\n",
      "weighted avg       0.65      0.65      0.65     10954\n",
      "\n"
     ]
    }
   ],
   "source": [
    "print(confusion_matrix(All_labels ,All_preds ))\n",
    "print()\n",
    "print(classification_report(All_labels ,All_preds ))"
   ]
  },
  {
   "cell_type": "code",
   "execution_count": null,
   "metadata": {},
   "outputs": [],
   "source": []
  },
  {
   "cell_type": "code",
   "execution_count": null,
   "metadata": {},
   "outputs": [],
   "source": []
  },
  {
   "cell_type": "code",
   "execution_count": null,
   "metadata": {},
   "outputs": [],
   "source": []
  },
  {
   "cell_type": "code",
   "execution_count": null,
   "metadata": {},
   "outputs": [],
   "source": []
  },
  {
   "cell_type": "code",
   "execution_count": null,
   "metadata": {},
   "outputs": [],
   "source": []
  }
 ],
 "metadata": {
  "accelerator": "GPU",
  "colab": {
   "collapsed_sections": [],
   "name": "Race_classification.ipynb",
   "provenance": []
  },
  "kernelspec": {
   "display_name": "Python 3",
   "language": "python",
   "name": "python3"
  },
  "language_info": {
   "codemirror_mode": {
    "name": "ipython",
    "version": 3
   },
   "file_extension": ".py",
   "mimetype": "text/x-python",
   "name": "python",
   "nbconvert_exporter": "python",
   "pygments_lexer": "ipython3",
   "version": "3.8.8"
  }
 },
 "nbformat": 4,
 "nbformat_minor": 1
}
