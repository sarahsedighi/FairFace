{
 "cells": [
  {
   "cell_type": "code",
   "execution_count": 1,
   "id": "741e5ca0",
   "metadata": {},
   "outputs": [],
   "source": [
    "import time\n",
    "import glob\n",
    "import cv2\n",
    "import pprint\n",
    "import sklearn\n",
    "import numpy as np\n",
    "import pandas as pd\n",
    "import mediapipe as mp\n",
    "import matplotlib.pyplot as plt\n",
    "\n",
    "from sklearn.cluster import KMeans, DBSCAN\n",
    "# import hdbscan\n",
    "\n",
    "%matplotlib inline"
   ]
  },
  {
   "cell_type": "code",
   "execution_count": 2,
   "id": "0926e240",
   "metadata": {},
   "outputs": [],
   "source": [
    "class FaceMeshDetector():\n",
    "\n",
    "    def __init__(self, staticMode=False, maxFaces=2, minDetectionCon=0.5, minTrackCon=0.5):\n",
    "\n",
    "        self.staticMode = staticMode\n",
    "        self.maxFaces = maxFaces\n",
    "        self.minDetectionCon = minDetectionCon\n",
    "        self.minTrackCon = minTrackCon\n",
    "\n",
    "        self.mpDraw = mp.solutions.drawing_utils\n",
    "        self.mpFaceMesh = mp.solutions.face_mesh\n",
    "        self.faceMesh = self.mpFaceMesh.FaceMesh(self.staticMode, self.maxFaces,\n",
    "                                                 self.minDetectionCon, self.minTrackCon)\n",
    "        self.drawSpec = self.mpDraw.DrawingSpec(thickness=1, circle_radius=2)\n",
    "\n",
    "    def findFaceMesh(self, img, draw=True, land_mark_mask_=None):\n",
    "        \n",
    "        self.imgRGB = cv2.cvtColor(img, cv2.COLOR_BGR2RGB)\n",
    "        self.results = self.faceMesh.process(self.imgRGB)\n",
    "        \n",
    "        faces = []\n",
    "        \n",
    "        if self.results.multi_face_landmarks:\n",
    "            for faceLms in self.results.multi_face_landmarks:\n",
    "                if draw:\n",
    "                    self.mpDraw.draw_landmarks(img, faceLms, self.mpFaceMesh.FACE_CONNECTIONS,\n",
    "                                           self.drawSpec, self.drawSpec)\n",
    "\n",
    "                        \n",
    "                face = []\n",
    "                \n",
    "                if land_mark_mask_ is None :\n",
    "                    land_mark_mask_ = np.ones_like(faceLms.landmark)\n",
    "                    \n",
    "                selected_land_marks = np.array(faceLms.landmark)[land_mark_mask_]\n",
    "                id_s_ = np.arange(468)[land_mark_mask_]\n",
    "                \n",
    "                for id, lm in zip(id_s_, selected_land_marks):\n",
    "                    #print(lm)\n",
    "                    \n",
    "                    ih, iw, ic = self.imgRGB.shape\n",
    "                    x = int(np.clip(lm.x, 0, 1)*(iw-1))\n",
    "                    y = int(np.clip(lm.y, 0, 1)*(ih-1))\n",
    "                    \n",
    "#                     cv2.putText(img, str(id), (x, y), cv2.FONT_HERSHEY_PLAIN,\n",
    "#                                1.3, (0, 255, 255), 2)\n",
    "\n",
    "                    # print(id,x,y)\n",
    "\n",
    "                    face.append(self.imgRGB[y, x, :])\n",
    "                faces.append(face)\n",
    "        return img, faces"
   ]
  },
  {
   "cell_type": "code",
   "execution_count": 3,
   "id": "8edaef6a",
   "metadata": {},
   "outputs": [],
   "source": [
    "# source_path = \"data/test/\"\n",
    "\n",
    "source_path_ = \"../fairface-img-margin025-trainval/all/\"\n",
    "files_path = source_path_  + '*.jpg'\n",
    "\n",
    "image_files = [file_ for file_ in glob.glob(files_path)]\n",
    "\n",
    "# image_files \n",
    "\n",
    "filter_points = []\n",
    "temp_ = np.arange(468)\n",
    "\n",
    "forehead = [10,151,337,109]\n",
    "cheek = [50,330,101,203,423,205,425,207,427]\n",
    "others = [69,299,36,266,280]\n",
    "\n",
    "for i_ in [forehead + cheek + others]:\n",
    "    filter_i = np.array([element_ in i_ for element_ in temp_ ])\n",
    "    filter_points.append(filter_i)\n",
    "\n",
    "# filter_points, len(image_files), len(image_files)"
   ]
  },
  {
   "cell_type": "code",
   "execution_count": 4,
   "id": "79caa9bb",
   "metadata": {},
   "outputs": [],
   "source": [
    "plt.rcParams['figure.figsize'] = [48, 48]\n",
    "\n",
    "# for colored printing\n",
    "class bcolors:\n",
    "    HEADER = '\\033[95m'\n",
    "    OKBLUE = '\\033[94m'\n",
    "    OKCYAN = '\\033[96m'\n",
    "    OKGREEN = '\\033[92m'\n",
    "    WARNING = '\\033[93m'\n",
    "    FAIL = '\\033[91m'\n",
    "    ENDC = '\\033[0m'\n",
    "    BOLD = '\\033[1m'\n",
    "    UNDERLINE = '\\033[4m'\n"
   ]
  },
  {
   "cell_type": "code",
   "execution_count": 5,
   "id": "e392bc66",
   "metadata": {},
   "outputs": [
    {
     "name": "stdout",
     "output_type": "stream",
     "text": [
      "fps 0.0\n",
      "[]\n"
     ]
    }
   ],
   "source": [
    "# def get_face_land_values(image_files, FaceMeshDetector):\n",
    "\n",
    "detector =  FaceMeshDetector(staticMode=True, maxFaces=1, minDetectionCon=False)\n",
    "\n",
    "pTime = time.time()\n",
    "\n",
    "median_rgbs = []\n",
    "median_rgbs_idx = []\n",
    "median_rgbs_info = []\n",
    "\n",
    "# for idx, file_ in enumerate(image_files):\n",
    "#     \n",
    "for idx_file_, file_ in enumerate(image_files):\n",
    "    for idx, filter_ in enumerate(filter_points):\n",
    "        \n",
    "        img_ = cv2.imread(file_)\n",
    "\n",
    "        _, faces = detector.findFaceMesh(img_, draw=False, land_mark_mask_=filter_)\n",
    "\n",
    "    #     plt.imshow(img_with_landmark)\n",
    "    #     plt.show()\n",
    "\n",
    "        if len(faces) != 0:\n",
    "            median_rgbs.append(np.median(faces[0], axis=0))\n",
    "            \n",
    "            median_rgbs_idx.append(f'{idx}_{idx_file_}')\n",
    "            median_rgbs_info.append({'fullname': f'{file_}_{idx_file_}'})\n",
    "    #         print(f\"{idx} file {file_} done \")\n",
    "    #          cv2.imwrite(source_path + \"out/\" + str(idx) + \".jpg\", img_with_landmark, [int(cv2.IMWRITE_JPEG_QUALITY), 100])\n",
    "\n",
    "        else:\n",
    "            print(f\"{bcolors.WARNING}Warning: {idx} face in file {file_} not found {bcolors.ENDC}\")\n",
    "\n",
    "#     median_rgbs.append([0,0,0])\n",
    "\n",
    "\n",
    "\n",
    "# test exit\n",
    "    # if idx//1 == 1:\n",
    "\n",
    "    # break\n",
    "\n",
    "\n",
    "# local fps \n",
    "    # cTime = time.time()\n",
    "    # fps = 1 / (cTime - pTime)\n",
    "    # pTime = cTime\n",
    "    #  print(f'fps {fps:.1f}')\n",
    "\n",
    "\n",
    "# global fps\n",
    "cTime = time.time()\n",
    "fps = len(image_files)//((cTime - pTime)+(1.e-20))\n",
    "print(f'fps {fps:.1f}')\n",
    "\n",
    "# np.median(faces[0], axis=0)\n",
    "\n",
    "\n",
    "pprint.pprint(median_rgbs)\n"
   ]
  },
  {
   "cell_type": "code",
   "execution_count": 6,
   "id": "c46b9e89",
   "metadata": {},
   "outputs": [
    {
     "ename": "IndexError",
     "evalue": "list index out of range",
     "output_type": "error",
     "traceback": [
      "\u001b[1;31m---------------------------------------------------------------------------\u001b[0m",
      "\u001b[1;31mIndexError\u001b[0m                                Traceback (most recent call last)",
      "\u001b[1;32mC:\\Users\\SARASE~1\\AppData\\Local\\Temp/ipykernel_10160/2626946720.py\u001b[0m in \u001b[0;36m<module>\u001b[1;34m\u001b[0m\n\u001b[1;32m----> 1\u001b[1;33m \u001b[0mgen_data\u001b[0m \u001b[1;33m=\u001b[0m \u001b[0mlist\u001b[0m\u001b[1;33m(\u001b[0m\u001b[0mzip\u001b[0m\u001b[1;33m(\u001b[0m\u001b[0mmedian_rgbs_idx\u001b[0m\u001b[1;33m,\u001b[0m \u001b[0mmedian_rgbs\u001b[0m\u001b[1;33m[\u001b[0m\u001b[1;36m0\u001b[0m\u001b[1;33m]\u001b[0m\u001b[1;33m,\u001b[0m \u001b[0mmedian_rgbs\u001b[0m\u001b[1;33m[\u001b[0m\u001b[1;36m1\u001b[0m\u001b[1;33m]\u001b[0m\u001b[1;33m,\u001b[0m \u001b[0mmedian_rgbs\u001b[0m\u001b[1;33m[\u001b[0m\u001b[1;36m2\u001b[0m\u001b[1;33m]\u001b[0m\u001b[1;33m,\u001b[0m \u001b[0mmedian_rgbs_info\u001b[0m\u001b[1;33m)\u001b[0m\u001b[1;33m)\u001b[0m\u001b[1;33m\u001b[0m\u001b[1;33m\u001b[0m\u001b[0m\n\u001b[0m\u001b[0;32m      2\u001b[0m \u001b[1;31m# gen_data\u001b[0m\u001b[1;33m\u001b[0m\u001b[1;33m\u001b[0m\u001b[1;33m\u001b[0m\u001b[0m\n",
      "\u001b[1;31mIndexError\u001b[0m: list index out of range"
     ]
    }
   ],
   "source": [
    "gen_data = list(zip(median_rgbs_idx, median_rgbs[0], median_rgbs[1], median_rgbs[2], median_rgbs_info))\n",
    "# gen_data"
   ]
  },
  {
   "cell_type": "code",
   "execution_count": null,
   "id": "a942c8fb",
   "metadata": {},
   "outputs": [],
   "source": [
    "# # save data\n",
    "# df = pd.DataFrame(gen_data,\n",
    "#                columns =['ID', 'MEDIAN_R', 'MEDIAN_G', 'MEDIAN_B', 'info'])\n",
    "\n",
    "# df.to_csv('data_face_colors.csv')\n",
    "# df"
   ]
  },
  {
   "cell_type": "code",
   "execution_count": null,
   "id": "cb954b6c",
   "metadata": {},
   "outputs": [],
   "source": [
    "# faces[0][0]"
   ]
  },
  {
   "cell_type": "code",
   "execution_count": 3,
   "id": "90cbebf2",
   "metadata": {},
   "outputs": [
    {
     "data": {
      "text/plain": [
       "(88004, 3)"
      ]
     },
     "execution_count": 3,
     "metadata": {},
     "output_type": "execute_result"
    }
   ],
   "source": [
    "df_medians = pd.read_feather('./median_rgbs.feather')\n",
    "# numpy array\n",
    "median_rgbs = df_medians[['median_rgbs_r', 'median_rgbs_g', 'median_rgbs_b']].values\n",
    "median_rgbs.shape"
   ]
  },
  {
   "cell_type": "code",
   "execution_count": 4,
   "id": "8b84c9d2",
   "metadata": {},
   "outputs": [],
   "source": [
    "# (df_medians['median_rgbs_info']:\n",
    "#            [10]['fullname'].split('\\\\')[1].split('_')[0])\n",
    "file_names = []\n",
    "for i_ in df_medians['median_rgbs_info']:\n",
    "    if 'tn' in  i_['fullname'].split('\\\\')[1].split('_')[0]:\n",
    "        file_names.append('train/' + i_['fullname'].split('\\\\')[1].split('_')[0].replace(')', '').split('(')[1])\n",
    "    else:\n",
    "        file_names.append('val/' + i_['fullname'].split('\\\\')[1].split('_')[0])\n",
    "\n",
    "        "
   ]
  },
  {
   "cell_type": "code",
   "execution_count": 5,
   "id": "76157444",
   "metadata": {},
   "outputs": [
    {
     "data": {
      "text/plain": [
       "88004"
      ]
     },
     "execution_count": 5,
     "metadata": {},
     "output_type": "execute_result"
    }
   ],
   "source": [
    "len(file_names)"
   ]
  },
  {
   "cell_type": "code",
   "execution_count": 6,
   "id": "d3086136",
   "metadata": {},
   "outputs": [
    {
     "data": {
      "text/html": [
       "<div>\n",
       "<style scoped>\n",
       "    .dataframe tbody tr th:only-of-type {\n",
       "        vertical-align: middle;\n",
       "    }\n",
       "\n",
       "    .dataframe tbody tr th {\n",
       "        vertical-align: top;\n",
       "    }\n",
       "\n",
       "    .dataframe thead th {\n",
       "        text-align: right;\n",
       "    }\n",
       "</style>\n",
       "<table border=\"1\" class=\"dataframe\">\n",
       "  <thead>\n",
       "    <tr style=\"text-align: right;\">\n",
       "      <th></th>\n",
       "      <th>index</th>\n",
       "      <th>median_rgbs_idx</th>\n",
       "      <th>median_rgbs_r</th>\n",
       "      <th>median_rgbs_g</th>\n",
       "      <th>median_rgbs_b</th>\n",
       "      <th>median_rgbs_info</th>\n",
       "      <th>file</th>\n",
       "    </tr>\n",
       "  </thead>\n",
       "  <tbody>\n",
       "    <tr>\n",
       "      <th>0</th>\n",
       "      <td>88004</td>\n",
       "      <td>0_0</td>\n",
       "      <td>88.5</td>\n",
       "      <td>53.0</td>\n",
       "      <td>33.0</td>\n",
       "      <td>{'fullname': '../fairface-img-margin025-trainv...</td>\n",
       "      <td>val/1.jpg</td>\n",
       "    </tr>\n",
       "    <tr>\n",
       "      <th>1</th>\n",
       "      <td>88004</td>\n",
       "      <td>0_1</td>\n",
       "      <td>190.0</td>\n",
       "      <td>110.5</td>\n",
       "      <td>71.5</td>\n",
       "      <td>{'fullname': '../fairface-img-margin025-trainv...</td>\n",
       "      <td>val/10.jpg</td>\n",
       "    </tr>\n",
       "    <tr>\n",
       "      <th>2</th>\n",
       "      <td>88004</td>\n",
       "      <td>0_2</td>\n",
       "      <td>226.0</td>\n",
       "      <td>189.0</td>\n",
       "      <td>179.5</td>\n",
       "      <td>{'fullname': '../fairface-img-margin025-trainv...</td>\n",
       "      <td>val/100.jpg</td>\n",
       "    </tr>\n",
       "    <tr>\n",
       "      <th>3</th>\n",
       "      <td>88004</td>\n",
       "      <td>0_3</td>\n",
       "      <td>108.5</td>\n",
       "      <td>79.0</td>\n",
       "      <td>49.0</td>\n",
       "      <td>{'fullname': '../fairface-img-margin025-trainv...</td>\n",
       "      <td>val/1000.jpg</td>\n",
       "    </tr>\n",
       "    <tr>\n",
       "      <th>4</th>\n",
       "      <td>88004</td>\n",
       "      <td>0_4</td>\n",
       "      <td>240.5</td>\n",
       "      <td>195.5</td>\n",
       "      <td>164.5</td>\n",
       "      <td>{'fullname': '../fairface-img-margin025-trainv...</td>\n",
       "      <td>val/10000.jpg</td>\n",
       "    </tr>\n",
       "    <tr>\n",
       "      <th>...</th>\n",
       "      <td>...</td>\n",
       "      <td>...</td>\n",
       "      <td>...</td>\n",
       "      <td>...</td>\n",
       "      <td>...</td>\n",
       "      <td>...</td>\n",
       "      <td>...</td>\n",
       "    </tr>\n",
       "    <tr>\n",
       "      <th>87999</th>\n",
       "      <td>88004</td>\n",
       "      <td>0_97693</td>\n",
       "      <td>136.5</td>\n",
       "      <td>98.0</td>\n",
       "      <td>55.5</td>\n",
       "      <td>{'fullname': '../fairface-img-margin025-trainv...</td>\n",
       "      <td>train/9995.jpg</td>\n",
       "    </tr>\n",
       "    <tr>\n",
       "      <th>88000</th>\n",
       "      <td>88004</td>\n",
       "      <td>0_97694</td>\n",
       "      <td>78.0</td>\n",
       "      <td>33.5</td>\n",
       "      <td>18.5</td>\n",
       "      <td>{'fullname': '../fairface-img-margin025-trainv...</td>\n",
       "      <td>train/9996.jpg</td>\n",
       "    </tr>\n",
       "    <tr>\n",
       "      <th>88001</th>\n",
       "      <td>88004</td>\n",
       "      <td>0_97695</td>\n",
       "      <td>190.5</td>\n",
       "      <td>121.5</td>\n",
       "      <td>94.5</td>\n",
       "      <td>{'fullname': '../fairface-img-margin025-trainv...</td>\n",
       "      <td>train/9997.jpg</td>\n",
       "    </tr>\n",
       "    <tr>\n",
       "      <th>88002</th>\n",
       "      <td>88004</td>\n",
       "      <td>0_97696</td>\n",
       "      <td>196.5</td>\n",
       "      <td>117.5</td>\n",
       "      <td>73.0</td>\n",
       "      <td>{'fullname': '../fairface-img-margin025-trainv...</td>\n",
       "      <td>train/9998.jpg</td>\n",
       "    </tr>\n",
       "    <tr>\n",
       "      <th>88003</th>\n",
       "      <td>88004</td>\n",
       "      <td>0_97697</td>\n",
       "      <td>218.0</td>\n",
       "      <td>149.5</td>\n",
       "      <td>113.5</td>\n",
       "      <td>{'fullname': '../fairface-img-margin025-trainv...</td>\n",
       "      <td>train/9999.jpg</td>\n",
       "    </tr>\n",
       "  </tbody>\n",
       "</table>\n",
       "<p>88004 rows × 7 columns</p>\n",
       "</div>"
      ],
      "text/plain": [
       "       index median_rgbs_idx  median_rgbs_r  median_rgbs_g  median_rgbs_b  \\\n",
       "0      88004             0_0           88.5           53.0           33.0   \n",
       "1      88004             0_1          190.0          110.5           71.5   \n",
       "2      88004             0_2          226.0          189.0          179.5   \n",
       "3      88004             0_3          108.5           79.0           49.0   \n",
       "4      88004             0_4          240.5          195.5          164.5   \n",
       "...      ...             ...            ...            ...            ...   \n",
       "87999  88004         0_97693          136.5           98.0           55.5   \n",
       "88000  88004         0_97694           78.0           33.5           18.5   \n",
       "88001  88004         0_97695          190.5          121.5           94.5   \n",
       "88002  88004         0_97696          196.5          117.5           73.0   \n",
       "88003  88004         0_97697          218.0          149.5          113.5   \n",
       "\n",
       "                                        median_rgbs_info            file  \n",
       "0      {'fullname': '../fairface-img-margin025-trainv...       val/1.jpg  \n",
       "1      {'fullname': '../fairface-img-margin025-trainv...      val/10.jpg  \n",
       "2      {'fullname': '../fairface-img-margin025-trainv...     val/100.jpg  \n",
       "3      {'fullname': '../fairface-img-margin025-trainv...    val/1000.jpg  \n",
       "4      {'fullname': '../fairface-img-margin025-trainv...   val/10000.jpg  \n",
       "...                                                  ...             ...  \n",
       "87999  {'fullname': '../fairface-img-margin025-trainv...  train/9995.jpg  \n",
       "88000  {'fullname': '../fairface-img-margin025-trainv...  train/9996.jpg  \n",
       "88001  {'fullname': '../fairface-img-margin025-trainv...  train/9997.jpg  \n",
       "88002  {'fullname': '../fairface-img-margin025-trainv...  train/9998.jpg  \n",
       "88003  {'fullname': '../fairface-img-margin025-trainv...  train/9999.jpg  \n",
       "\n",
       "[88004 rows x 7 columns]"
      ]
     },
     "execution_count": 6,
     "metadata": {},
     "output_type": "execute_result"
    }
   ],
   "source": [
    "df_medians['file'] = file_names\n",
    "\n",
    "df_medians"
   ]
  },
  {
   "cell_type": "code",
   "execution_count": 7,
   "id": "e035f0d0",
   "metadata": {},
   "outputs": [
    {
     "data": {
      "text/html": [
       "<div>\n",
       "<style scoped>\n",
       "    .dataframe tbody tr th:only-of-type {\n",
       "        vertical-align: middle;\n",
       "    }\n",
       "\n",
       "    .dataframe tbody tr th {\n",
       "        vertical-align: top;\n",
       "    }\n",
       "\n",
       "    .dataframe thead th {\n",
       "        text-align: right;\n",
       "    }\n",
       "</style>\n",
       "<table border=\"1\" class=\"dataframe\">\n",
       "  <thead>\n",
       "    <tr style=\"text-align: right;\">\n",
       "      <th></th>\n",
       "      <th>index</th>\n",
       "      <th>median_rgbs_idx</th>\n",
       "      <th>median_rgbs_r</th>\n",
       "      <th>median_rgbs_g</th>\n",
       "      <th>median_rgbs_b</th>\n",
       "      <th>median_rgbs_info</th>\n",
       "      <th>file</th>\n",
       "      <th>age</th>\n",
       "      <th>gender</th>\n",
       "      <th>race</th>\n",
       "      <th>service_test</th>\n",
       "    </tr>\n",
       "  </thead>\n",
       "  <tbody>\n",
       "    <tr>\n",
       "      <th>0</th>\n",
       "      <td>88004</td>\n",
       "      <td>0_0</td>\n",
       "      <td>88.5</td>\n",
       "      <td>53.0</td>\n",
       "      <td>33.0</td>\n",
       "      <td>{'fullname': '../fairface-img-margin025-trainv...</td>\n",
       "      <td>val/1.jpg</td>\n",
       "      <td>3-9</td>\n",
       "      <td>Male</td>\n",
       "      <td>East Asian</td>\n",
       "      <td>False</td>\n",
       "    </tr>\n",
       "    <tr>\n",
       "      <th>1</th>\n",
       "      <td>88004</td>\n",
       "      <td>0_1</td>\n",
       "      <td>190.0</td>\n",
       "      <td>110.5</td>\n",
       "      <td>71.5</td>\n",
       "      <td>{'fullname': '../fairface-img-margin025-trainv...</td>\n",
       "      <td>val/10.jpg</td>\n",
       "      <td>3-9</td>\n",
       "      <td>Male</td>\n",
       "      <td>Southeast Asian</td>\n",
       "      <td>False</td>\n",
       "    </tr>\n",
       "    <tr>\n",
       "      <th>2</th>\n",
       "      <td>88004</td>\n",
       "      <td>0_2</td>\n",
       "      <td>226.0</td>\n",
       "      <td>189.0</td>\n",
       "      <td>179.5</td>\n",
       "      <td>{'fullname': '../fairface-img-margin025-trainv...</td>\n",
       "      <td>val/100.jpg</td>\n",
       "      <td>20-29</td>\n",
       "      <td>Female</td>\n",
       "      <td>East Asian</td>\n",
       "      <td>True</td>\n",
       "    </tr>\n",
       "    <tr>\n",
       "      <th>3</th>\n",
       "      <td>88004</td>\n",
       "      <td>0_3</td>\n",
       "      <td>108.5</td>\n",
       "      <td>79.0</td>\n",
       "      <td>49.0</td>\n",
       "      <td>{'fullname': '../fairface-img-margin025-trainv...</td>\n",
       "      <td>val/1000.jpg</td>\n",
       "      <td>20-29</td>\n",
       "      <td>Male</td>\n",
       "      <td>Latino_Hispanic</td>\n",
       "      <td>True</td>\n",
       "    </tr>\n",
       "    <tr>\n",
       "      <th>4</th>\n",
       "      <td>88004</td>\n",
       "      <td>0_4</td>\n",
       "      <td>240.5</td>\n",
       "      <td>195.5</td>\n",
       "      <td>164.5</td>\n",
       "      <td>{'fullname': '../fairface-img-margin025-trainv...</td>\n",
       "      <td>val/10000.jpg</td>\n",
       "      <td>20-29</td>\n",
       "      <td>Female</td>\n",
       "      <td>East Asian</td>\n",
       "      <td>True</td>\n",
       "    </tr>\n",
       "    <tr>\n",
       "      <th>...</th>\n",
       "      <td>...</td>\n",
       "      <td>...</td>\n",
       "      <td>...</td>\n",
       "      <td>...</td>\n",
       "      <td>...</td>\n",
       "      <td>...</td>\n",
       "      <td>...</td>\n",
       "      <td>...</td>\n",
       "      <td>...</td>\n",
       "      <td>...</td>\n",
       "      <td>...</td>\n",
       "    </tr>\n",
       "    <tr>\n",
       "      <th>87999</th>\n",
       "      <td>88004</td>\n",
       "      <td>0_97693</td>\n",
       "      <td>136.5</td>\n",
       "      <td>98.0</td>\n",
       "      <td>55.5</td>\n",
       "      <td>{'fullname': '../fairface-img-margin025-trainv...</td>\n",
       "      <td>train/9995.jpg</td>\n",
       "      <td>20-29</td>\n",
       "      <td>Female</td>\n",
       "      <td>Latino_Hispanic</td>\n",
       "      <td>True</td>\n",
       "    </tr>\n",
       "    <tr>\n",
       "      <th>88000</th>\n",
       "      <td>88004</td>\n",
       "      <td>0_97694</td>\n",
       "      <td>78.0</td>\n",
       "      <td>33.5</td>\n",
       "      <td>18.5</td>\n",
       "      <td>{'fullname': '../fairface-img-margin025-trainv...</td>\n",
       "      <td>train/9996.jpg</td>\n",
       "      <td>30-39</td>\n",
       "      <td>Female</td>\n",
       "      <td>White</td>\n",
       "      <td>False</td>\n",
       "    </tr>\n",
       "    <tr>\n",
       "      <th>88001</th>\n",
       "      <td>88004</td>\n",
       "      <td>0_97695</td>\n",
       "      <td>190.5</td>\n",
       "      <td>121.5</td>\n",
       "      <td>94.5</td>\n",
       "      <td>{'fullname': '../fairface-img-margin025-trainv...</td>\n",
       "      <td>train/9997.jpg</td>\n",
       "      <td>20-29</td>\n",
       "      <td>Male</td>\n",
       "      <td>Black</td>\n",
       "      <td>True</td>\n",
       "    </tr>\n",
       "    <tr>\n",
       "      <th>88002</th>\n",
       "      <td>88004</td>\n",
       "      <td>0_97696</td>\n",
       "      <td>196.5</td>\n",
       "      <td>117.5</td>\n",
       "      <td>73.0</td>\n",
       "      <td>{'fullname': '../fairface-img-margin025-trainv...</td>\n",
       "      <td>train/9998.jpg</td>\n",
       "      <td>40-49</td>\n",
       "      <td>Male</td>\n",
       "      <td>Southeast Asian</td>\n",
       "      <td>False</td>\n",
       "    </tr>\n",
       "    <tr>\n",
       "      <th>88003</th>\n",
       "      <td>88004</td>\n",
       "      <td>0_97697</td>\n",
       "      <td>218.0</td>\n",
       "      <td>149.5</td>\n",
       "      <td>113.5</td>\n",
       "      <td>{'fullname': '../fairface-img-margin025-trainv...</td>\n",
       "      <td>train/9999.jpg</td>\n",
       "      <td>20-29</td>\n",
       "      <td>Female</td>\n",
       "      <td>Indian</td>\n",
       "      <td>True</td>\n",
       "    </tr>\n",
       "  </tbody>\n",
       "</table>\n",
       "<p>88004 rows × 11 columns</p>\n",
       "</div>"
      ],
      "text/plain": [
       "       index median_rgbs_idx  median_rgbs_r  median_rgbs_g  median_rgbs_b  \\\n",
       "0      88004             0_0           88.5           53.0           33.0   \n",
       "1      88004             0_1          190.0          110.5           71.5   \n",
       "2      88004             0_2          226.0          189.0          179.5   \n",
       "3      88004             0_3          108.5           79.0           49.0   \n",
       "4      88004             0_4          240.5          195.5          164.5   \n",
       "...      ...             ...            ...            ...            ...   \n",
       "87999  88004         0_97693          136.5           98.0           55.5   \n",
       "88000  88004         0_97694           78.0           33.5           18.5   \n",
       "88001  88004         0_97695          190.5          121.5           94.5   \n",
       "88002  88004         0_97696          196.5          117.5           73.0   \n",
       "88003  88004         0_97697          218.0          149.5          113.5   \n",
       "\n",
       "                                        median_rgbs_info            file  \\\n",
       "0      {'fullname': '../fairface-img-margin025-trainv...       val/1.jpg   \n",
       "1      {'fullname': '../fairface-img-margin025-trainv...      val/10.jpg   \n",
       "2      {'fullname': '../fairface-img-margin025-trainv...     val/100.jpg   \n",
       "3      {'fullname': '../fairface-img-margin025-trainv...    val/1000.jpg   \n",
       "4      {'fullname': '../fairface-img-margin025-trainv...   val/10000.jpg   \n",
       "...                                                  ...             ...   \n",
       "87999  {'fullname': '../fairface-img-margin025-trainv...  train/9995.jpg   \n",
       "88000  {'fullname': '../fairface-img-margin025-trainv...  train/9996.jpg   \n",
       "88001  {'fullname': '../fairface-img-margin025-trainv...  train/9997.jpg   \n",
       "88002  {'fullname': '../fairface-img-margin025-trainv...  train/9998.jpg   \n",
       "88003  {'fullname': '../fairface-img-margin025-trainv...  train/9999.jpg   \n",
       "\n",
       "         age  gender             race  service_test  \n",
       "0        3-9    Male       East Asian         False  \n",
       "1        3-9    Male  Southeast Asian         False  \n",
       "2      20-29  Female       East Asian          True  \n",
       "3      20-29    Male  Latino_Hispanic          True  \n",
       "4      20-29  Female       East Asian          True  \n",
       "...      ...     ...              ...           ...  \n",
       "87999  20-29  Female  Latino_Hispanic          True  \n",
       "88000  30-39  Female            White         False  \n",
       "88001  20-29    Male            Black          True  \n",
       "88002  40-49    Male  Southeast Asian         False  \n",
       "88003  20-29  Female           Indian          True  \n",
       "\n",
       "[88004 rows x 11 columns]"
      ]
     },
     "execution_count": 7,
     "metadata": {},
     "output_type": "execute_result"
    }
   ],
   "source": [
    "df_label_train = pd.read_csv('../fairface_label_train.csv')\n",
    "df_label_val = pd.read_csv('../fairface_label_val.csv')\n",
    "\n",
    "df_label_all = pd.concat([df_label_train, df_label_val])\n",
    "# df_label_val['file']\n",
    "# df_medians['file']\n",
    "df_fair_face = df_medians.merge(df_label_all,  left_on='file', right_on='file', )\n",
    "df_fair_face"
   ]
  },
  {
   "cell_type": "code",
   "execution_count": 8,
   "id": "b1717e87",
   "metadata": {},
   "outputs": [],
   "source": [
    "df_fair_face['median_grays']  = 0.299*df_fair_face['median_rgbs_r'] + 0.587*df_fair_face['median_rgbs_g'] + 0.114*df_fair_face['median_rgbs_b']"
   ]
  },
  {
   "cell_type": "code",
   "execution_count": 106,
   "id": "2aa78950",
   "metadata": {},
   "outputs": [],
   "source": [
    "df_fair_face.to_feather('FairFace_Main.feather')"
   ]
  },
  {
   "cell_type": "code",
   "execution_count": 107,
   "id": "1a09991d",
   "metadata": {},
   "outputs": [],
   "source": [
    "df_fair_face[['file', 'gender', 'race', 'median_rgbs_r', 'median_rgbs_g', 'median_rgbs_b', 'median_grays']].to_feather('FairFace_compressed.feather')"
   ]
  },
  {
   "cell_type": "code",
   "execution_count": null,
   "id": "bc01e14e",
   "metadata": {},
   "outputs": [],
   "source": []
  },
  {
   "cell_type": "code",
   "execution_count": 10,
   "id": "ba564a41",
   "metadata": {},
   "outputs": [
    {
     "data": {
      "text/plain": [
       "(88004, 3)"
      ]
     },
     "execution_count": 10,
     "metadata": {},
     "output_type": "execute_result"
    }
   ],
   "source": [
    "median_rgbs.shape"
   ]
  },
  {
   "cell_type": "code",
   "execution_count": 11,
   "id": "f918a849",
   "metadata": {},
   "outputs": [],
   "source": [
    "# median_rgbs = np.array(median_rgbs)\n",
    "\n",
    "# median_dataframe = pd.DataFrame({'index': len(median_rgbs_info),\n",
    "#                                  'median_rgbs_idx': median_rgbs_idx,\n",
    "#                                  'median_rgbs_r': median_rgbs[:,0],\n",
    "#                                  'median_rgbs_g': median_rgbs[:,1],\n",
    "#                                  'median_rgbs_b': median_rgbs[:,2],\n",
    "#                                  'median_rgbs_info': median_rgbs_info})\n",
    "# median_dataframe.to_csv('median_rgbs.csv')\n",
    "# median_dataframe.to_feather('median_rgbs.feather')"
   ]
  },
  {
   "cell_type": "code",
   "execution_count": 12,
   "id": "39622470",
   "metadata": {},
   "outputs": [
    {
     "data": {
      "text/plain": [
       "array([[165.74649634, 111.03312307,  87.87673203],\n",
       "       [214.12933958, 166.00531013, 144.48576528],\n",
       "       [104.13595019,  62.48233171,  47.27287493]])"
      ]
     },
     "execution_count": 12,
     "metadata": {},
     "output_type": "execute_result"
    }
   ],
   "source": [
    "k_means = sklearn.cluster.KMeans(n_clusters=3, random_state=2)\n",
    "k_means.fit_predict(median_rgbs)\n",
    "\n",
    "k_means.labels_\n",
    "k_means.cluster_centers_"
   ]
  },
  {
   "cell_type": "code",
   "execution_count": 13,
   "id": "6249703c",
   "metadata": {},
   "outputs": [],
   "source": [
    "# best_epsilon = 5.2\n",
    "# # for epsilon in range(1, 1000, 100): \n",
    "# epsilon =  best_epsilon\n",
    "# dbscan = sklearn.cluster.DBSCAN(eps=epsilon/10, min_samples=len(median_rgbs[:,0])//50)\n",
    "# if max(dbscan.fit_predict(median_rgbs)) == 2:\n",
    "#     best_epsilon = epsilon/10\n",
    "#     print(best_epsilon)\n",
    "#     break\n",
    "    \n"
   ]
  },
  {
   "cell_type": "code",
   "execution_count": 84,
   "id": "93d0cf0a",
   "metadata": {},
   "outputs": [
    {
     "name": "stdout",
     "output_type": "stream",
     "text": [
      "3\n",
      "1.73206\n"
     ]
    }
   ],
   "source": [
    "epsilon = 1.73206\n",
    "dbscan = sklearn.cluster.DBSCAN(eps=epsilon, min_samples=len(median_rgbs[:,0])//2000)\n",
    "print(max(dbscan.fit_predict(median_rgbs)))\n",
    "print(epsilon)\n",
    "\n",
    "    \n"
   ]
  },
  {
   "cell_type": "code",
   "execution_count": null,
   "id": "604886b6",
   "metadata": {},
   "outputs": [],
   "source": []
  },
  {
   "cell_type": "code",
   "execution_count": 85,
   "id": "5627b2ba",
   "metadata": {},
   "outputs": [],
   "source": [
    "median_grays = df_fair_face['median_grays']"
   ]
  },
  {
   "cell_type": "code",
   "execution_count": 91,
   "id": "56fd0e9a",
   "metadata": {},
   "outputs": [
    {
     "data": {
      "text/plain": [
       "(101.07703998999999, 141.04807998)"
      ]
     },
     "execution_count": 91,
     "metadata": {},
     "output_type": "execute_result"
    }
   ],
   "source": [
    "np.quantile(median_grays, 0.33333), np.quantile(median_grays, 0.66666)"
   ]
  },
  {
   "cell_type": "code",
   "execution_count": 94,
   "id": "36474c02",
   "metadata": {},
   "outputs": [
    {
     "data": {
      "text/plain": [
       "(array([[155. , 109.5,  83.5],\n",
       "        [225. , 156. , 140.5],\n",
       "        [200.5, 140. , 101.5]]),\n",
       " array([40277, 22337, 55554]))"
      ]
     },
     "execution_count": 94,
     "metadata": {},
     "output_type": "execute_result"
    }
   ],
   "source": [
    "sklearn.cluster.kmeans_plusplus(median_rgbs, n_clusters=3)"
   ]
  },
  {
   "cell_type": "code",
   "execution_count": 104,
   "id": "a48c57bd",
   "metadata": {},
   "outputs": [
    {
     "data": {
      "text/plain": [
       "(array([[104.09457897,  62.45446332,  47.24812071],\n",
       "        [214.07895792, 165.95263861, 144.42736584],\n",
       "        [165.69217772, 110.97453734,  87.82466538]]),\n",
       " array([0, 2, 1, ..., 2, 2, 1]))"
      ]
     },
     "execution_count": 104,
     "metadata": {},
     "output_type": "execute_result"
    }
   ],
   "source": [
    "centers_, clusters_, _ = sklearn.cluster.k_means(median_rgbs, n_clusters=3)\n",
    "centers_, clusters_"
   ]
  },
  {
   "cell_type": "code",
   "execution_count": 108,
   "id": "7841818c",
   "metadata": {},
   "outputs": [],
   "source": [
    "df_fair_face['k-means'] = clusters_"
   ]
  },
  {
   "cell_type": "code",
   "execution_count": 113,
   "id": "153e22e4",
   "metadata": {},
   "outputs": [
    {
     "name": "stdout",
     "output_type": "stream",
     "text": [
      "[0 2 1 ... 2 2 1]\n"
     ]
    },
    {
     "data": {
      "text/plain": [
       "array([[104.27660377,  62.57962264,  47.35739443],\n",
       "       [214.19680946, 166.12486557, 144.63136315],\n",
       "       [165.91874653, 111.18150965,  87.99803238]])"
      ]
     },
     "execution_count": 113,
     "metadata": {},
     "output_type": "execute_result"
    }
   ],
   "source": [
    "kmean_cluster = sklearn.cluster.KMeans(n_clusters=3)\n",
    "print(kmean_cluster.fit_predict(median_rgbs))\n",
    "kmean_cluster.cluster_centers_\n",
    "# df_fair_face['KMeans'] = kmean_cluster.fit_predict(median_rgbs)"
   ]
  },
  {
   "cell_type": "code",
   "execution_count": 121,
   "id": "14e0dbcc",
   "metadata": {},
   "outputs": [],
   "source": [
    "from numpy import unique\n",
    "from numpy import where\n",
    "from sklearn.cluster import Birch\n",
    "from sklearn.mixture import GaussianMixture\n",
    "from matplotlib import pyplot"
   ]
  },
  {
   "cell_type": "code",
   "execution_count": 119,
   "id": "1fa313d8",
   "metadata": {},
   "outputs": [
    {
     "ename": "MemoryError",
     "evalue": "Unable to allocate 27.4 GiB for an array with shape (3671602278,) and data type float64",
     "output_type": "error",
     "traceback": [
      "\u001b[1;31m---------------------------------------------------------------------------\u001b[0m",
      "\u001b[1;31mMemoryError\u001b[0m                               Traceback (most recent call last)",
      "\u001b[1;32mC:\\Users\\SARASE~1\\AppData\\Local\\Temp/ipykernel_9380/2137687959.py\u001b[0m in \u001b[0;36m<module>\u001b[1;34m\u001b[0m\n\u001b[0;32m      3\u001b[0m \u001b[0mmodel\u001b[0m \u001b[1;33m=\u001b[0m \u001b[0mBirch\u001b[0m\u001b[1;33m(\u001b[0m\u001b[0mthreshold\u001b[0m\u001b[1;33m=\u001b[0m\u001b[1;36m0.0001\u001b[0m\u001b[1;33m,\u001b[0m \u001b[0mn_clusters\u001b[0m\u001b[1;33m=\u001b[0m\u001b[1;36m6\u001b[0m\u001b[1;33m)\u001b[0m\u001b[1;33m\u001b[0m\u001b[1;33m\u001b[0m\u001b[0m\n\u001b[0;32m      4\u001b[0m \u001b[1;31m# fit the model\u001b[0m\u001b[1;33m\u001b[0m\u001b[1;33m\u001b[0m\u001b[1;33m\u001b[0m\u001b[0m\n\u001b[1;32m----> 5\u001b[1;33m \u001b[0mprint\u001b[0m\u001b[1;33m(\u001b[0m\u001b[0mmodel\u001b[0m\u001b[1;33m.\u001b[0m\u001b[0mfit_predict\u001b[0m\u001b[1;33m(\u001b[0m\u001b[0mmedian_rgbs\u001b[0m\u001b[1;33m)\u001b[0m\u001b[1;33m)\u001b[0m\u001b[1;33m\u001b[0m\u001b[1;33m\u001b[0m\u001b[0m\n\u001b[0m\u001b[0;32m      6\u001b[0m \u001b[1;33m\u001b[0m\u001b[0m\n\u001b[0;32m      7\u001b[0m \u001b[1;31m# # retrieve unique clusters\u001b[0m\u001b[1;33m\u001b[0m\u001b[1;33m\u001b[0m\u001b[1;33m\u001b[0m\u001b[0m\n",
      "\u001b[1;32mc:\\users\\sarasedighi\\appdata\\local\\programs\\python\\python38\\lib\\site-packages\\sklearn\\base.py\u001b[0m in \u001b[0;36mfit_predict\u001b[1;34m(self, X, y)\u001b[0m\n\u001b[0;32m    729\u001b[0m         \u001b[1;31m# non-optimized default implementation; override when a better\u001b[0m\u001b[1;33m\u001b[0m\u001b[1;33m\u001b[0m\u001b[1;33m\u001b[0m\u001b[0m\n\u001b[0;32m    730\u001b[0m         \u001b[1;31m# method is possible for a given clustering algorithm\u001b[0m\u001b[1;33m\u001b[0m\u001b[1;33m\u001b[0m\u001b[1;33m\u001b[0m\u001b[0m\n\u001b[1;32m--> 731\u001b[1;33m         \u001b[0mself\u001b[0m\u001b[1;33m.\u001b[0m\u001b[0mfit\u001b[0m\u001b[1;33m(\u001b[0m\u001b[0mX\u001b[0m\u001b[1;33m)\u001b[0m\u001b[1;33m\u001b[0m\u001b[1;33m\u001b[0m\u001b[0m\n\u001b[0m\u001b[0;32m    732\u001b[0m         \u001b[1;32mreturn\u001b[0m \u001b[0mself\u001b[0m\u001b[1;33m.\u001b[0m\u001b[0mlabels_\u001b[0m\u001b[1;33m\u001b[0m\u001b[1;33m\u001b[0m\u001b[0m\n\u001b[0;32m    733\u001b[0m \u001b[1;33m\u001b[0m\u001b[0m\n",
      "\u001b[1;32mc:\\users\\sarasedighi\\appdata\\local\\programs\\python\\python38\\lib\\site-packages\\sklearn\\cluster\\_birch.py\u001b[0m in \u001b[0;36mfit\u001b[1;34m(self, X, y)\u001b[0m\n\u001b[0;32m    515\u001b[0m         \u001b[1;31m# TODO: Remove deprecated flags in 1.2\u001b[0m\u001b[1;33m\u001b[0m\u001b[1;33m\u001b[0m\u001b[1;33m\u001b[0m\u001b[0m\n\u001b[0;32m    516\u001b[0m         \u001b[0mself\u001b[0m\u001b[1;33m.\u001b[0m\u001b[0m_deprecated_fit\u001b[0m\u001b[1;33m,\u001b[0m \u001b[0mself\u001b[0m\u001b[1;33m.\u001b[0m\u001b[0m_deprecated_partial_fit\u001b[0m \u001b[1;33m=\u001b[0m \u001b[1;32mTrue\u001b[0m\u001b[1;33m,\u001b[0m \u001b[1;32mFalse\u001b[0m\u001b[1;33m\u001b[0m\u001b[1;33m\u001b[0m\u001b[0m\n\u001b[1;32m--> 517\u001b[1;33m         \u001b[1;32mreturn\u001b[0m \u001b[0mself\u001b[0m\u001b[1;33m.\u001b[0m\u001b[0m_fit\u001b[0m\u001b[1;33m(\u001b[0m\u001b[0mX\u001b[0m\u001b[1;33m,\u001b[0m \u001b[0mpartial\u001b[0m\u001b[1;33m=\u001b[0m\u001b[1;32mFalse\u001b[0m\u001b[1;33m)\u001b[0m\u001b[1;33m\u001b[0m\u001b[1;33m\u001b[0m\u001b[0m\n\u001b[0m\u001b[0;32m    518\u001b[0m \u001b[1;33m\u001b[0m\u001b[0m\n\u001b[0;32m    519\u001b[0m     \u001b[1;32mdef\u001b[0m \u001b[0m_fit\u001b[0m\u001b[1;33m(\u001b[0m\u001b[0mself\u001b[0m\u001b[1;33m,\u001b[0m \u001b[0mX\u001b[0m\u001b[1;33m,\u001b[0m \u001b[0mpartial\u001b[0m\u001b[1;33m)\u001b[0m\u001b[1;33m:\u001b[0m\u001b[1;33m\u001b[0m\u001b[1;33m\u001b[0m\u001b[0m\n",
      "\u001b[1;32mc:\\users\\sarasedighi\\appdata\\local\\programs\\python\\python38\\lib\\site-packages\\sklearn\\cluster\\_birch.py\u001b[0m in \u001b[0;36m_fit\u001b[1;34m(self, X, partial)\u001b[0m\n\u001b[0;32m    579\u001b[0m         \u001b[0mself\u001b[0m\u001b[1;33m.\u001b[0m\u001b[0msubcluster_centers_\u001b[0m \u001b[1;33m=\u001b[0m \u001b[0mcentroids\u001b[0m\u001b[1;33m\u001b[0m\u001b[1;33m\u001b[0m\u001b[0m\n\u001b[0;32m    580\u001b[0m \u001b[1;33m\u001b[0m\u001b[0m\n\u001b[1;32m--> 581\u001b[1;33m         \u001b[0mself\u001b[0m\u001b[1;33m.\u001b[0m\u001b[0m_global_clustering\u001b[0m\u001b[1;33m(\u001b[0m\u001b[0mX\u001b[0m\u001b[1;33m)\u001b[0m\u001b[1;33m\u001b[0m\u001b[1;33m\u001b[0m\u001b[0m\n\u001b[0m\u001b[0;32m    582\u001b[0m         \u001b[1;32mreturn\u001b[0m \u001b[0mself\u001b[0m\u001b[1;33m\u001b[0m\u001b[1;33m\u001b[0m\u001b[0m\n\u001b[0;32m    583\u001b[0m \u001b[1;33m\u001b[0m\u001b[0m\n",
      "\u001b[1;32mc:\\users\\sarasedighi\\appdata\\local\\programs\\python\\python38\\lib\\site-packages\\sklearn\\cluster\\_birch.py\u001b[0m in \u001b[0;36m_global_clustering\u001b[1;34m(self, X)\u001b[0m\n\u001b[0;32m    721\u001b[0m             \u001b[1;31m# the leaves. It assumes the centroids of the subclusters as\u001b[0m\u001b[1;33m\u001b[0m\u001b[1;33m\u001b[0m\u001b[1;33m\u001b[0m\u001b[0m\n\u001b[0;32m    722\u001b[0m             \u001b[1;31m# samples and finds the final centroids.\u001b[0m\u001b[1;33m\u001b[0m\u001b[1;33m\u001b[0m\u001b[1;33m\u001b[0m\u001b[0m\n\u001b[1;32m--> 723\u001b[1;33m             \u001b[0mself\u001b[0m\u001b[1;33m.\u001b[0m\u001b[0msubcluster_labels_\u001b[0m \u001b[1;33m=\u001b[0m \u001b[0mclusterer\u001b[0m\u001b[1;33m.\u001b[0m\u001b[0mfit_predict\u001b[0m\u001b[1;33m(\u001b[0m\u001b[0mself\u001b[0m\u001b[1;33m.\u001b[0m\u001b[0msubcluster_centers_\u001b[0m\u001b[1;33m)\u001b[0m\u001b[1;33m\u001b[0m\u001b[1;33m\u001b[0m\u001b[0m\n\u001b[0m\u001b[0;32m    724\u001b[0m \u001b[1;33m\u001b[0m\u001b[0m\n\u001b[0;32m    725\u001b[0m         \u001b[1;32mif\u001b[0m \u001b[0mcompute_labels\u001b[0m\u001b[1;33m:\u001b[0m\u001b[1;33m\u001b[0m\u001b[1;33m\u001b[0m\u001b[0m\n",
      "\u001b[1;32mc:\\users\\sarasedighi\\appdata\\local\\programs\\python\\python38\\lib\\site-packages\\sklearn\\cluster\\_agglomerative.py\u001b[0m in \u001b[0;36mfit_predict\u001b[1;34m(self, X, y)\u001b[0m\n\u001b[0;32m   1052\u001b[0m             \u001b[0mCluster\u001b[0m \u001b[0mlabels\u001b[0m\u001b[1;33m.\u001b[0m\u001b[1;33m\u001b[0m\u001b[1;33m\u001b[0m\u001b[0m\n\u001b[0;32m   1053\u001b[0m         \"\"\"\n\u001b[1;32m-> 1054\u001b[1;33m         \u001b[1;32mreturn\u001b[0m \u001b[0msuper\u001b[0m\u001b[1;33m(\u001b[0m\u001b[1;33m)\u001b[0m\u001b[1;33m.\u001b[0m\u001b[0mfit_predict\u001b[0m\u001b[1;33m(\u001b[0m\u001b[0mX\u001b[0m\u001b[1;33m,\u001b[0m \u001b[0my\u001b[0m\u001b[1;33m)\u001b[0m\u001b[1;33m\u001b[0m\u001b[1;33m\u001b[0m\u001b[0m\n\u001b[0m\u001b[0;32m   1055\u001b[0m \u001b[1;33m\u001b[0m\u001b[0m\n\u001b[0;32m   1056\u001b[0m \u001b[1;33m\u001b[0m\u001b[0m\n",
      "\u001b[1;32mc:\\users\\sarasedighi\\appdata\\local\\programs\\python\\python38\\lib\\site-packages\\sklearn\\base.py\u001b[0m in \u001b[0;36mfit_predict\u001b[1;34m(self, X, y)\u001b[0m\n\u001b[0;32m    729\u001b[0m         \u001b[1;31m# non-optimized default implementation; override when a better\u001b[0m\u001b[1;33m\u001b[0m\u001b[1;33m\u001b[0m\u001b[1;33m\u001b[0m\u001b[0m\n\u001b[0;32m    730\u001b[0m         \u001b[1;31m# method is possible for a given clustering algorithm\u001b[0m\u001b[1;33m\u001b[0m\u001b[1;33m\u001b[0m\u001b[1;33m\u001b[0m\u001b[0m\n\u001b[1;32m--> 731\u001b[1;33m         \u001b[0mself\u001b[0m\u001b[1;33m.\u001b[0m\u001b[0mfit\u001b[0m\u001b[1;33m(\u001b[0m\u001b[0mX\u001b[0m\u001b[1;33m)\u001b[0m\u001b[1;33m\u001b[0m\u001b[1;33m\u001b[0m\u001b[0m\n\u001b[0m\u001b[0;32m    732\u001b[0m         \u001b[1;32mreturn\u001b[0m \u001b[0mself\u001b[0m\u001b[1;33m.\u001b[0m\u001b[0mlabels_\u001b[0m\u001b[1;33m\u001b[0m\u001b[1;33m\u001b[0m\u001b[0m\n\u001b[0;32m    733\u001b[0m \u001b[1;33m\u001b[0m\u001b[0m\n",
      "\u001b[1;32mc:\\users\\sarasedighi\\appdata\\local\\programs\\python\\python38\\lib\\site-packages\\sklearn\\cluster\\_agglomerative.py\u001b[0m in \u001b[0;36mfit\u001b[1;34m(self, X, y)\u001b[0m\n\u001b[0;32m    916\u001b[0m         \"\"\"\n\u001b[0;32m    917\u001b[0m         \u001b[0mX\u001b[0m \u001b[1;33m=\u001b[0m \u001b[0mself\u001b[0m\u001b[1;33m.\u001b[0m\u001b[0m_validate_data\u001b[0m\u001b[1;33m(\u001b[0m\u001b[0mX\u001b[0m\u001b[1;33m,\u001b[0m \u001b[0mensure_min_samples\u001b[0m\u001b[1;33m=\u001b[0m\u001b[1;36m2\u001b[0m\u001b[1;33m,\u001b[0m \u001b[0mestimator\u001b[0m\u001b[1;33m=\u001b[0m\u001b[0mself\u001b[0m\u001b[1;33m)\u001b[0m\u001b[1;33m\u001b[0m\u001b[1;33m\u001b[0m\u001b[0m\n\u001b[1;32m--> 918\u001b[1;33m         \u001b[1;32mreturn\u001b[0m \u001b[0mself\u001b[0m\u001b[1;33m.\u001b[0m\u001b[0m_fit\u001b[0m\u001b[1;33m(\u001b[0m\u001b[0mX\u001b[0m\u001b[1;33m)\u001b[0m\u001b[1;33m\u001b[0m\u001b[1;33m\u001b[0m\u001b[0m\n\u001b[0m\u001b[0;32m    919\u001b[0m \u001b[1;33m\u001b[0m\u001b[0m\n\u001b[0;32m    920\u001b[0m     \u001b[1;32mdef\u001b[0m \u001b[0m_fit\u001b[0m\u001b[1;33m(\u001b[0m\u001b[0mself\u001b[0m\u001b[1;33m,\u001b[0m \u001b[0mX\u001b[0m\u001b[1;33m)\u001b[0m\u001b[1;33m:\u001b[0m\u001b[1;33m\u001b[0m\u001b[1;33m\u001b[0m\u001b[0m\n",
      "\u001b[1;32mc:\\users\\sarasedighi\\appdata\\local\\programs\\python\\python38\\lib\\site-packages\\sklearn\\cluster\\_agglomerative.py\u001b[0m in \u001b[0;36m_fit\u001b[1;34m(self, X)\u001b[0m\n\u001b[0;32m    999\u001b[0m         \u001b[0mreturn_distance\u001b[0m \u001b[1;33m=\u001b[0m \u001b[1;33m(\u001b[0m\u001b[0mdistance_threshold\u001b[0m \u001b[1;32mis\u001b[0m \u001b[1;32mnot\u001b[0m \u001b[1;32mNone\u001b[0m\u001b[1;33m)\u001b[0m \u001b[1;32mor\u001b[0m \u001b[0mself\u001b[0m\u001b[1;33m.\u001b[0m\u001b[0mcompute_distances\u001b[0m\u001b[1;33m\u001b[0m\u001b[1;33m\u001b[0m\u001b[0m\n\u001b[0;32m   1000\u001b[0m \u001b[1;33m\u001b[0m\u001b[0m\n\u001b[1;32m-> 1001\u001b[1;33m         out = memory.cache(tree_builder)(\n\u001b[0m\u001b[0;32m   1002\u001b[0m             \u001b[0mX\u001b[0m\u001b[1;33m,\u001b[0m\u001b[1;33m\u001b[0m\u001b[1;33m\u001b[0m\u001b[0m\n\u001b[0;32m   1003\u001b[0m             \u001b[0mconnectivity\u001b[0m\u001b[1;33m=\u001b[0m\u001b[0mconnectivity\u001b[0m\u001b[1;33m,\u001b[0m\u001b[1;33m\u001b[0m\u001b[1;33m\u001b[0m\u001b[0m\n",
      "\u001b[1;32mc:\\users\\sarasedighi\\appdata\\local\\programs\\python\\python38\\lib\\site-packages\\joblib\\memory.py\u001b[0m in \u001b[0;36m__call__\u001b[1;34m(self, *args, **kwargs)\u001b[0m\n\u001b[0;32m    347\u001b[0m \u001b[1;33m\u001b[0m\u001b[0m\n\u001b[0;32m    348\u001b[0m     \u001b[1;32mdef\u001b[0m \u001b[0m__call__\u001b[0m\u001b[1;33m(\u001b[0m\u001b[0mself\u001b[0m\u001b[1;33m,\u001b[0m \u001b[1;33m*\u001b[0m\u001b[0margs\u001b[0m\u001b[1;33m,\u001b[0m \u001b[1;33m**\u001b[0m\u001b[0mkwargs\u001b[0m\u001b[1;33m)\u001b[0m\u001b[1;33m:\u001b[0m\u001b[1;33m\u001b[0m\u001b[1;33m\u001b[0m\u001b[0m\n\u001b[1;32m--> 349\u001b[1;33m         \u001b[1;32mreturn\u001b[0m \u001b[0mself\u001b[0m\u001b[1;33m.\u001b[0m\u001b[0mfunc\u001b[0m\u001b[1;33m(\u001b[0m\u001b[1;33m*\u001b[0m\u001b[0margs\u001b[0m\u001b[1;33m,\u001b[0m \u001b[1;33m**\u001b[0m\u001b[0mkwargs\u001b[0m\u001b[1;33m)\u001b[0m\u001b[1;33m\u001b[0m\u001b[1;33m\u001b[0m\u001b[0m\n\u001b[0m\u001b[0;32m    350\u001b[0m \u001b[1;33m\u001b[0m\u001b[0m\n\u001b[0;32m    351\u001b[0m     \u001b[1;32mdef\u001b[0m \u001b[0mcall_and_shelve\u001b[0m\u001b[1;33m(\u001b[0m\u001b[0mself\u001b[0m\u001b[1;33m,\u001b[0m \u001b[1;33m*\u001b[0m\u001b[0margs\u001b[0m\u001b[1;33m,\u001b[0m \u001b[1;33m**\u001b[0m\u001b[0mkwargs\u001b[0m\u001b[1;33m)\u001b[0m\u001b[1;33m:\u001b[0m\u001b[1;33m\u001b[0m\u001b[1;33m\u001b[0m\u001b[0m\n",
      "\u001b[1;32mc:\\users\\sarasedighi\\appdata\\local\\programs\\python\\python38\\lib\\site-packages\\sklearn\\cluster\\_agglomerative.py\u001b[0m in \u001b[0;36mward_tree\u001b[1;34m(X, connectivity, n_clusters, return_distance)\u001b[0m\n\u001b[0;32m    269\u001b[0m             )\n\u001b[0;32m    270\u001b[0m         \u001b[0mX\u001b[0m \u001b[1;33m=\u001b[0m \u001b[0mnp\u001b[0m\u001b[1;33m.\u001b[0m\u001b[0mrequire\u001b[0m\u001b[1;33m(\u001b[0m\u001b[0mX\u001b[0m\u001b[1;33m,\u001b[0m \u001b[0mrequirements\u001b[0m\u001b[1;33m=\u001b[0m\u001b[1;34m\"W\"\u001b[0m\u001b[1;33m)\u001b[0m\u001b[1;33m\u001b[0m\u001b[1;33m\u001b[0m\u001b[0m\n\u001b[1;32m--> 271\u001b[1;33m         \u001b[0mout\u001b[0m \u001b[1;33m=\u001b[0m \u001b[0mhierarchy\u001b[0m\u001b[1;33m.\u001b[0m\u001b[0mward\u001b[0m\u001b[1;33m(\u001b[0m\u001b[0mX\u001b[0m\u001b[1;33m)\u001b[0m\u001b[1;33m\u001b[0m\u001b[1;33m\u001b[0m\u001b[0m\n\u001b[0m\u001b[0;32m    272\u001b[0m         \u001b[0mchildren_\u001b[0m \u001b[1;33m=\u001b[0m \u001b[0mout\u001b[0m\u001b[1;33m[\u001b[0m\u001b[1;33m:\u001b[0m\u001b[1;33m,\u001b[0m \u001b[1;33m:\u001b[0m\u001b[1;36m2\u001b[0m\u001b[1;33m]\u001b[0m\u001b[1;33m.\u001b[0m\u001b[0mastype\u001b[0m\u001b[1;33m(\u001b[0m\u001b[0mnp\u001b[0m\u001b[1;33m.\u001b[0m\u001b[0mintp\u001b[0m\u001b[1;33m)\u001b[0m\u001b[1;33m\u001b[0m\u001b[1;33m\u001b[0m\u001b[0m\n\u001b[0;32m    273\u001b[0m \u001b[1;33m\u001b[0m\u001b[0m\n",
      "\u001b[1;32mc:\\users\\sarasedighi\\appdata\\local\\programs\\python\\python38\\lib\\site-packages\\scipy\\cluster\\hierarchy.py\u001b[0m in \u001b[0;36mward\u001b[1;34m(y)\u001b[0m\n\u001b[0;32m    832\u001b[0m \u001b[1;33m\u001b[0m\u001b[0m\n\u001b[0;32m    833\u001b[0m     \"\"\"\n\u001b[1;32m--> 834\u001b[1;33m     \u001b[1;32mreturn\u001b[0m \u001b[0mlinkage\u001b[0m\u001b[1;33m(\u001b[0m\u001b[0my\u001b[0m\u001b[1;33m,\u001b[0m \u001b[0mmethod\u001b[0m\u001b[1;33m=\u001b[0m\u001b[1;34m'ward'\u001b[0m\u001b[1;33m,\u001b[0m \u001b[0mmetric\u001b[0m\u001b[1;33m=\u001b[0m\u001b[1;34m'euclidean'\u001b[0m\u001b[1;33m)\u001b[0m\u001b[1;33m\u001b[0m\u001b[1;33m\u001b[0m\u001b[0m\n\u001b[0m\u001b[0;32m    835\u001b[0m \u001b[1;33m\u001b[0m\u001b[0m\n\u001b[0;32m    836\u001b[0m \u001b[1;33m\u001b[0m\u001b[0m\n",
      "\u001b[1;32mc:\\users\\sarasedighi\\appdata\\local\\programs\\python\\python38\\lib\\site-packages\\scipy\\cluster\\hierarchy.py\u001b[0m in \u001b[0;36mlinkage\u001b[1;34m(y, method, metric, optimal_ordering)\u001b[0m\n\u001b[0;32m   1058\u001b[0m                          \u001b[1;34m'matrix looks suspiciously like an uncondensed '\u001b[0m\u001b[1;33m\u001b[0m\u001b[1;33m\u001b[0m\u001b[0m\n\u001b[0;32m   1059\u001b[0m                          'distance matrix')\n\u001b[1;32m-> 1060\u001b[1;33m         \u001b[0my\u001b[0m \u001b[1;33m=\u001b[0m \u001b[0mdistance\u001b[0m\u001b[1;33m.\u001b[0m\u001b[0mpdist\u001b[0m\u001b[1;33m(\u001b[0m\u001b[0my\u001b[0m\u001b[1;33m,\u001b[0m \u001b[0mmetric\u001b[0m\u001b[1;33m)\u001b[0m\u001b[1;33m\u001b[0m\u001b[1;33m\u001b[0m\u001b[0m\n\u001b[0m\u001b[0;32m   1061\u001b[0m     \u001b[1;32melse\u001b[0m\u001b[1;33m:\u001b[0m\u001b[1;33m\u001b[0m\u001b[1;33m\u001b[0m\u001b[0m\n\u001b[0;32m   1062\u001b[0m         \u001b[1;32mraise\u001b[0m \u001b[0mValueError\u001b[0m\u001b[1;33m(\u001b[0m\u001b[1;34m\"`y` must be 1 or 2 dimensional.\"\u001b[0m\u001b[1;33m)\u001b[0m\u001b[1;33m\u001b[0m\u001b[1;33m\u001b[0m\u001b[0m\n",
      "\u001b[1;32mc:\\users\\sarasedighi\\appdata\\local\\programs\\python\\python38\\lib\\site-packages\\scipy\\spatial\\distance.py\u001b[0m in \u001b[0;36mpdist\u001b[1;34m(X, metric, out, **kwargs)\u001b[0m\n\u001b[0;32m   2248\u001b[0m         \u001b[1;32mif\u001b[0m \u001b[0mmetric_info\u001b[0m \u001b[1;32mis\u001b[0m \u001b[1;32mnot\u001b[0m \u001b[1;32mNone\u001b[0m\u001b[1;33m:\u001b[0m\u001b[1;33m\u001b[0m\u001b[1;33m\u001b[0m\u001b[0m\n\u001b[0;32m   2249\u001b[0m             \u001b[0mpdist_fn\u001b[0m \u001b[1;33m=\u001b[0m \u001b[0mmetric_info\u001b[0m\u001b[1;33m.\u001b[0m\u001b[0mpdist_func\u001b[0m\u001b[1;33m\u001b[0m\u001b[1;33m\u001b[0m\u001b[0m\n\u001b[1;32m-> 2250\u001b[1;33m             \u001b[1;32mreturn\u001b[0m \u001b[0mpdist_fn\u001b[0m\u001b[1;33m(\u001b[0m\u001b[0mX\u001b[0m\u001b[1;33m,\u001b[0m \u001b[0mout\u001b[0m\u001b[1;33m=\u001b[0m\u001b[0mout\u001b[0m\u001b[1;33m,\u001b[0m \u001b[1;33m**\u001b[0m\u001b[0mkwargs\u001b[0m\u001b[1;33m)\u001b[0m\u001b[1;33m\u001b[0m\u001b[1;33m\u001b[0m\u001b[0m\n\u001b[0m\u001b[0;32m   2251\u001b[0m         \u001b[1;32melif\u001b[0m \u001b[0mmstr\u001b[0m\u001b[1;33m.\u001b[0m\u001b[0mstartswith\u001b[0m\u001b[1;33m(\u001b[0m\u001b[1;34m\"test_\"\u001b[0m\u001b[1;33m)\u001b[0m\u001b[1;33m:\u001b[0m\u001b[1;33m\u001b[0m\u001b[1;33m\u001b[0m\u001b[0m\n\u001b[0;32m   2252\u001b[0m             \u001b[0mmetric_info\u001b[0m \u001b[1;33m=\u001b[0m \u001b[0m_TEST_METRICS\u001b[0m\u001b[1;33m.\u001b[0m\u001b[0mget\u001b[0m\u001b[1;33m(\u001b[0m\u001b[0mmstr\u001b[0m\u001b[1;33m,\u001b[0m \u001b[1;32mNone\u001b[0m\u001b[1;33m)\u001b[0m\u001b[1;33m\u001b[0m\u001b[1;33m\u001b[0m\u001b[0m\n",
      "\u001b[1;31mMemoryError\u001b[0m: Unable to allocate 27.4 GiB for an array with shape (3671602278,) and data type float64"
     ]
    }
   ],
   "source": [
    "# birch clustering\n",
    "# define the model\n",
    "model = Birch(threshold=0.01, n_clusters=3)\n",
    "# fit the model\n",
    "print(model.fit_predict(median_rgbs))\n",
    "\n",
    "# # retrieve unique clusters\n",
    "# clusters = unique(yhat)\n",
    "# # create scatter plot for samples from each cluster\n",
    "# for cluster in clusters:\n",
    "# \t# get row indexes for samples with this cluster\n",
    "# \trow_ix = where(yhat == cluster)\n",
    "# \t# create scatter of these samples\n",
    "# \tpyplot.scatter(X[row_ix, 0], X[row_ix, 1])\n"
   ]
  },
  {
   "cell_type": "code",
   "execution_count": 122,
   "id": "b8d024bf",
   "metadata": {},
   "outputs": [
    {
     "name": "stdout",
     "output_type": "stream",
     "text": [
      "[2 0 0 ... 0 0 0]\n"
     ]
    }
   ],
   "source": [
    "# define the model\n",
    "model = GaussianMixture(n_components=3)\n",
    "# fit the model\n",
    "print(model.fit_predict(median_rgbs))\n",
    "# # retrieve unique clusters\n",
    "# clusters = unique(yhat)\n",
    "# # create scatter plot for samples from each cluster\n",
    "# for cluster in clusters:\n",
    "# \t# get row indexes for samples with this cluster\n",
    "# \trow_ix = where(yhat == cluster)\n",
    "# \t# create scatter of these samples\n",
    "# \tpyplot.scatter(X[row_ix, 0], X[row_ix, 1])\n",
    "# # show the plot\n",
    "# pyplot.show()"
   ]
  },
  {
   "cell_type": "code",
   "execution_count": 123,
   "id": "83552b98",
   "metadata": {},
   "outputs": [],
   "source": [
    "df_fair_face['Gauss_mix'] = model.fit_predict(median_rgbs)"
   ]
  },
  {
   "cell_type": "code",
   "execution_count": 124,
   "id": "fee48619",
   "metadata": {},
   "outputs": [],
   "source": [
    "df_fair_face.to_excel('fair_face_kmeans_types.xlsx')"
   ]
  },
  {
   "cell_type": "code",
   "execution_count": 105,
   "id": "10fd9a23",
   "metadata": {},
   "outputs": [
    {
     "data": {
      "text/plain": [
       "0             val/1.jpg\n",
       "1            val/10.jpg\n",
       "2           val/100.jpg\n",
       "3          val/1000.jpg\n",
       "4         val/10000.jpg\n",
       "              ...      \n",
       "87999    train/9995.jpg\n",
       "88000    train/9996.jpg\n",
       "88001    train/9997.jpg\n",
       "88002    train/9998.jpg\n",
       "88003    train/9999.jpg\n",
       "Name: file, Length: 88004, dtype: object"
      ]
     },
     "execution_count": 105,
     "metadata": {},
     "output_type": "execute_result"
    }
   ],
   "source": [
    "df_fair_face['file']"
   ]
  },
  {
   "cell_type": "code",
   "execution_count": null,
   "id": "e1013adc",
   "metadata": {},
   "outputs": [],
   "source": [
    "dbscan = sklearn.cluster.DBSCAN(eps=best_epsilon, min_samples=len(image_files)//50)\n",
    "# dbscan.fit_predict(median_rgbs)\n",
    "\n",
    "# hdbscan \n",
    "pacmap"
   ]
  },
  {
   "cell_type": "code",
   "execution_count": null,
   "id": "7d353192",
   "metadata": {},
   "outputs": [],
   "source": [
    "max(dbscan.labels_)"
   ]
  },
  {
   "cell_type": "code",
   "execution_count": null,
   "id": "e436abd5",
   "metadata": {},
   "outputs": [],
   "source": [
    "dbscan.labels_\n"
   ]
  },
  {
   "cell_type": "code",
   "execution_count": null,
   "id": "1f8cbc74",
   "metadata": {},
   "outputs": [],
   "source": [
    "dbscan.cluster_centers_"
   ]
  },
  {
   "cell_type": "code",
   "execution_count": null,
   "id": "5e847774",
   "metadata": {},
   "outputs": [],
   "source": [
    "len(median_rgbs[dbscan.fit_predict(median_rgbs)==0]), len(median_rgbs[dbscan.fit_predict(median_rgbs)==1]), len(median_rgbs[dbscan.fit_predict(median_rgbs)==2])"
   ]
  },
  {
   "cell_type": "code",
   "execution_count": null,
   "id": "0e56d591",
   "metadata": {},
   "outputs": [],
   "source": []
  },
  {
   "cell_type": "code",
   "execution_count": null,
   "id": "674188d8",
   "metadata": {},
   "outputs": [],
   "source": [
    "# https://github.com/deepinsight/insightface/tree/master/recognition/_datasets_"
   ]
  }
 ],
 "metadata": {
  "kernelspec": {
   "display_name": "Python 3 (ipykernel)",
   "language": "python",
   "name": "python3"
  },
  "language_info": {
   "codemirror_mode": {
    "name": "ipython",
    "version": 3
   },
   "file_extension": ".py",
   "mimetype": "text/x-python",
   "name": "python",
   "nbconvert_exporter": "python",
   "pygments_lexer": "ipython3",
   "version": "3.8.10"
  }
 },
 "nbformat": 4,
 "nbformat_minor": 5
}
